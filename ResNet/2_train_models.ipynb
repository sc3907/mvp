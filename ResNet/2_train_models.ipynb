{
 "cells": [
  {
   "cell_type": "code",
   "execution_count": 1,
   "metadata": {},
   "outputs": [
    {
     "name": "stderr",
     "output_type": "stream",
     "text": [
      "Using TensorFlow backend.\n"
     ]
    },
    {
     "name": "stdout",
     "output_type": "stream",
     "text": [
      "this is a version 46 features in total, no RVIS no mis_badness !\n"
     ]
    }
   ],
   "source": [
    "from models import CNN_Model, CNN_Model_Mode6"
   ]
  },
  {
   "cell_type": "code",
   "execution_count": 2,
   "metadata": {
    "scrolled": false
   },
   "outputs": [
    {
     "name": "stdout",
     "output_type": "stream",
     "text": [
      "Loading training data...\n"
     ]
    },
    {
     "name": "stderr",
     "output_type": "stream",
     "text": [
      "/home/local/ARCS/hq2130/anaconda2/lib/python2.7/site-packages/IPython/core/interactiveshell.py:2881: DtypeWarning: Columns (66,68) have mixed types. Specify dtype option on import or set low_memory=False.\n",
      "  exec(code_obj, self.user_global_ns, self.user_ns)\n",
      "models.py:419: UserWarning: The `merge` function is deprecated and will be removed after 08/2017. Use instead layers from `keras.layers.merge`, e.g. `add`, `concatenate`, etc.\n",
      "  x = merge([x, y], mode=\"sum\")\n",
      "/home/local/ARCS/hq2130/anaconda2/lib/python2.7/site-packages/keras/legacy/layers.py:458: UserWarning: The `Merge` layer is deprecated and will be removed after 08/2017. Use instead layers from `keras.layers.merge`, e.g. `add`, `concatenate`, etc.\n",
      "  name=name)\n",
      "models.py:428: UserWarning: Update your `Model` call to the Keras 2 API: `Model(outputs=Tensor(\"ac..., inputs=Tensor(\"in...)`\n",
      "  self.model = Model(input=input_, output=act2)\n"
     ]
    },
    {
     "name": "stdout",
     "output_type": "stream",
     "text": [
      "46 cols used: ['MutationAssessor_score_rankscore', 'VEST3_rankscore', 'Polyphen2_HDIV_rankscore', 'SIFT_converted_rankscore', 'PROVEAN_converted_rankscore', 'FATHMM_converted_rankscore', 'GenoCanyon_score_rankscore', 'LRT_converted_rankscore', 'Eigen-PC-raw_rankscore', 'Eigen-phred', 'Eigen-PC-phred', 'phyloP20way_mammalian_rankscore', 'GERP++_RS_rankscore', 'SiPhy_29way_logOdds_rankscore', 'phastCons100way_vertebrate_rankscore', 'fathmm-MKL_coding_rankscore', 'phyloP100way_vertebrate_rankscore', 'phastCons20way_mammalian_rankscore', 'GM12878_fitCons_score_rankscore', 'HUVEC_fitCons_score_rankscore', 'integrated_fitCons_score_rankscore', 'H1-hESC_fitCons_score_rankscore', 'blosum62', 'pam250', 'SUMO_diff', 'SUMO_score', 'SUMO_cutoff', 'phospho_cutoff', 'phospho_score', 'phospho_diff', 'lofz', 'prec', 'pli', 's_het_log', 'secondary_E', 'secondary_H', 'complex_CORUM', 'preppi_counts', 'gnomad', 'ASA', 'secondary_C', 'gc_content', 'interface', 'ubiquitination', 'BioPlex', 'obs_exp']\n",
      "('X_train shape:', (22992, 46, 1, 1))\n",
      "(22992, 'train samples')\n",
      "(5748, 'test samples')\n",
      "____________________________________________________________________________________________________\n",
      "Layer (type)                     Output Shape          Param #     Connected to                     \n",
      "====================================================================================================\n",
      "input (InputLayer)               (None, 46, 1, 1)      0                                            \n",
      "____________________________________________________________________________________________________\n",
      "conv2d_1 (Conv2D)                (None, 46, 1, 32)     128         input[0][0]                      \n",
      "____________________________________________________________________________________________________\n",
      "conv2d_2 (Conv2D)                (None, 46, 1, 32)     3104        conv2d_1[0][0]                   \n",
      "____________________________________________________________________________________________________\n",
      "conv2d_3 (Conv2D)                (None, 46, 1, 32)     3104        conv2d_2[0][0]                   \n",
      "____________________________________________________________________________________________________\n",
      "merge_1 (Merge)                  (None, 46, 1, 32)     0           conv2d_1[0][0]                   \n",
      "                                                                   conv2d_3[0][0]                   \n",
      "____________________________________________________________________________________________________\n",
      "activation_1 (Activation)        (None, 46, 1, 32)     0           merge_1[0][0]                    \n",
      "____________________________________________________________________________________________________\n",
      "conv2d_4 (Conv2D)                (None, 46, 1, 32)     3104        activation_1[0][0]               \n",
      "____________________________________________________________________________________________________\n",
      "conv2d_5 (Conv2D)                (None, 46, 1, 32)     3104        conv2d_4[0][0]                   \n",
      "____________________________________________________________________________________________________\n",
      "merge_2 (Merge)                  (None, 46, 1, 32)     0           activation_1[0][0]               \n",
      "                                                                   conv2d_5[0][0]                   \n",
      "____________________________________________________________________________________________________\n",
      "activation_2 (Activation)        (None, 46, 1, 32)     0           merge_2[0][0]                    \n",
      "____________________________________________________________________________________________________\n",
      "flatten_1 (Flatten)              (None, 1472)          0           activation_2[0][0]               \n",
      "____________________________________________________________________________________________________\n",
      "dense_1 (Dense)                  (None, 512)           754176      flatten_1[0][0]                  \n",
      "____________________________________________________________________________________________________\n",
      "dense1 (Dense)                   (None, 1)             513         dense_1[0][0]                    \n",
      "____________________________________________________________________________________________________\n",
      "act2 (Activation)                (None, 1)             0           dense1[0][0]                     \n",
      "====================================================================================================\n",
      "Total params: 767,233\n",
      "Trainable params: 767,233\n",
      "Non-trainable params: 0\n",
      "____________________________________________________________________________________________________\n",
      "None\n",
      "--------------------------------------------------\n",
      "Training...\n",
      "--------------------------------------------------\n",
      "Fitting  model...\n",
      "Train on 22992 samples, validate on 5748 samples\n",
      "Epoch 1/11\n",
      "Epoch 00000: val_loss improved from inf to 0.24642, saving model to ../models/res_HIS-46cols_20170731-16.30.24-weights-improvement-00-0.90.hdf5\n",
      "6s - loss: 0.7067 - acc: 0.8328 - val_loss: 0.2464 - val_acc: 0.9012\n",
      "Epoch 2/11\n",
      "Epoch 00001: val_loss improved from 0.24642 to 0.21243, saving model to ../models/res_HIS-46cols_20170731-16.30.24-weights-improvement-01-0.92.hdf5\n",
      "6s - loss: 0.2093 - acc: 0.9158 - val_loss: 0.2124 - val_acc: 0.9186\n",
      "Epoch 3/11\n",
      "Epoch 00002: val_loss improved from 0.21243 to 0.21171, saving model to ../models/res_HIS-46cols_20170731-16.30.24-weights-improvement-02-0.92.hdf5\n",
      "6s - loss: 0.1947 - acc: 0.9224 - val_loss: 0.2117 - val_acc: 0.9208\n",
      "Epoch 4/11\n",
      "Epoch 00003: val_loss improved from 0.21171 to 0.20169, saving model to ../models/res_HIS-46cols_20170731-16.30.24-weights-improvement-03-0.92.hdf5\n",
      "6s - loss: 0.1896 - acc: 0.9258 - val_loss: 0.2017 - val_acc: 0.9247\n",
      "Epoch 5/11\n",
      "Epoch 00004: val_loss did not improve\n",
      "6s - loss: 0.1822 - acc: 0.9289 - val_loss: 0.2130 - val_acc: 0.9219\n",
      "Epoch 6/11\n",
      "Epoch 00005: val_loss improved from 0.20169 to 0.19060, saving model to ../models/res_HIS-46cols_20170731-16.30.24-weights-improvement-05-0.93.hdf5\n",
      "6s - loss: 0.1751 - acc: 0.9318 - val_loss: 0.1906 - val_acc: 0.9295\n",
      "Epoch 7/11\n",
      "Epoch 00006: val_loss did not improve\n",
      "6s - loss: 0.1689 - acc: 0.9337 - val_loss: 0.2079 - val_acc: 0.9203\n",
      "Epoch 8/11\n",
      "Epoch 00007: val_loss improved from 0.19060 to 0.18705, saving model to ../models/res_HIS-46cols_20170731-16.30.24-weights-improvement-07-0.93.hdf5\n",
      "6s - loss: 0.1638 - acc: 0.9363 - val_loss: 0.1870 - val_acc: 0.9295\n",
      "Epoch 9/11\n",
      "Epoch 00008: val_loss did not improve\n",
      "6s - loss: 0.1586 - acc: 0.9383 - val_loss: 0.1962 - val_acc: 0.9268\n",
      "Epoch 10/11\n",
      "Epoch 00009: val_loss did not improve\n",
      "6s - loss: 0.1517 - acc: 0.9427 - val_loss: 0.1979 - val_acc: 0.9285\n",
      "Epoch 11/11\n",
      "Epoch 00010: val_loss improved from 0.18705 to 0.18443, saving model to ../models/res_HIS-46cols_20170731-16.30.24-weights-improvement-10-0.93.hdf5\n",
      "6s - loss: 0.1469 - acc: 0.9452 - val_loss: 0.1844 - val_acc: 0.9348\n",
      "('Test score:', 0.1844308393525845)\n",
      "('Test accuracy:', 0.93475991645121459)\n"
     ]
    }
   ],
   "source": [
    "prefix = 'HIS'\n",
    "weights_path = None \n",
    "model = CNN_Model_Mode6(weights_path=weights_path, train_flag=True, verbose=2,\n",
    "                       nb_epoch=11, batch_size=64, \n",
    "                       name = 'res_' + prefix, \n",
    "                       fname='../data/input_data.' + prefix + '.csv', f_out = '../data/output/output_data_mode5.csv')\n",
    "\n",
    "model.train(sub_sample=False)\n",
    "#model.pred(get_last_layer=False)"
   ]
  },
  {
   "cell_type": "markdown",
   "metadata": {},
   "source": [
    "# HS genes training"
   ]
  },
  {
   "cell_type": "code",
   "execution_count": 3,
   "metadata": {
    "scrolled": false
   },
   "outputs": [
    {
     "name": "stdout",
     "output_type": "stream",
     "text": [
      "Loading training data...\n"
     ]
    },
    {
     "name": "stderr",
     "output_type": "stream",
     "text": [
      "/home/local/ARCS/hq2130/anaconda2/lib/python2.7/site-packages/IPython/core/interactiveshell.py:2881: DtypeWarning: Columns (62,66,68) have mixed types. Specify dtype option on import or set low_memory=False.\n",
      "  exec(code_obj, self.user_global_ns, self.user_ns)\n"
     ]
    },
    {
     "name": "stdout",
     "output_type": "stream",
     "text": [
      "(23780, 72) (23780, 72)\n",
      "46 cols used: ['MutationAssessor_score_rankscore', 'VEST3_rankscore', 'Polyphen2_HDIV_rankscore', 'SIFT_converted_rankscore', 'PROVEAN_converted_rankscore', 'FATHMM_converted_rankscore', 'GenoCanyon_score_rankscore', 'LRT_converted_rankscore', 'Eigen-PC-raw_rankscore', 'Eigen-phred', 'Eigen-PC-phred', 'phyloP20way_mammalian_rankscore', 'GERP++_RS_rankscore', 'SiPhy_29way_logOdds_rankscore', 'phastCons100way_vertebrate_rankscore', 'fathmm-MKL_coding_rankscore', 'phyloP100way_vertebrate_rankscore', 'phastCons20way_mammalian_rankscore', 'GM12878_fitCons_score_rankscore', 'HUVEC_fitCons_score_rankscore', 'integrated_fitCons_score_rankscore', 'H1-hESC_fitCons_score_rankscore', 'blosum62', 'pam250', 'SUMO_diff', 'SUMO_score', 'SUMO_cutoff', 'phospho_cutoff', 'phospho_score', 'phospho_diff', 'lofz', 'prec', 'pli', 's_het_log', 'secondary_E', 'secondary_H', 'complex_CORUM', 'preppi_counts', 'gnomad', 'ASA', 'secondary_C', 'gc_content', 'interface', 'ubiquitination', 'BioPlex', 'obs_exp']\n",
      "('X_train shape:', (38048, 46, 1, 1))\n",
      "(38048, 'train samples')\n",
      "(9512, 'test samples')\n",
      "____________________________________________________________________________________________________\n",
      "Layer (type)                     Output Shape          Param #     Connected to                     \n",
      "====================================================================================================\n",
      "input (InputLayer)               (None, 46, 1, 1)      0                                            \n",
      "____________________________________________________________________________________________________\n",
      "conv2d_6 (Conv2D)                (None, 46, 1, 32)     128         input[0][0]                      \n",
      "____________________________________________________________________________________________________\n",
      "conv2d_7 (Conv2D)                (None, 46, 1, 32)     3104        conv2d_6[0][0]                   \n",
      "____________________________________________________________________________________________________\n",
      "conv2d_8 (Conv2D)                (None, 46, 1, 32)     3104        conv2d_7[0][0]                   \n",
      "____________________________________________________________________________________________________\n",
      "merge_3 (Merge)                  (None, 46, 1, 32)     0           conv2d_6[0][0]                   \n",
      "                                                                   conv2d_8[0][0]                   \n",
      "____________________________________________________________________________________________________\n",
      "activation_3 (Activation)        (None, 46, 1, 32)     0           merge_3[0][0]                    \n",
      "____________________________________________________________________________________________________\n",
      "conv2d_9 (Conv2D)                (None, 46, 1, 32)     3104        activation_3[0][0]               \n",
      "____________________________________________________________________________________________________\n",
      "conv2d_10 (Conv2D)               (None, 46, 1, 32)     3104        conv2d_9[0][0]                   \n",
      "____________________________________________________________________________________________________\n",
      "merge_4 (Merge)                  (None, 46, 1, 32)     0           activation_3[0][0]               \n",
      "                                                                   conv2d_10[0][0]                  \n",
      "____________________________________________________________________________________________________\n",
      "activation_4 (Activation)        (None, 46, 1, 32)     0           merge_4[0][0]                    \n",
      "____________________________________________________________________________________________________\n",
      "flatten_2 (Flatten)              (None, 1472)          0           activation_4[0][0]               \n",
      "____________________________________________________________________________________________________\n",
      "dense_2 (Dense)                  (None, 512)           754176      flatten_2[0][0]                  \n",
      "____________________________________________________________________________________________________\n",
      "dense1 (Dense)                   (None, 1)             513         dense_2[0][0]                    \n",
      "____________________________________________________________________________________________________\n",
      "act2 (Activation)                (None, 1)             0           dense1[0][0]                     \n",
      "====================================================================================================\n",
      "Total params: 767,233\n",
      "Trainable params: 767,233\n",
      "Non-trainable params: 0\n",
      "____________________________________________________________________________________________________\n",
      "None\n",
      "--------------------------------------------------\n",
      "Training...\n",
      "--------------------------------------------------\n",
      "Fitting  model...\n",
      "Train on 38048 samples, validate on 9512 samples\n",
      "Epoch 1/11\n",
      "Epoch 00000: val_loss improved from inf to 0.25523, saving model to ../models/res_HS-46cols_20170731-16.31.38-weights-improvement-00-0.90.hdf5\n",
      "10s - loss: 0.3648 - acc: 0.8641 - val_loss: 0.2552 - val_acc: 0.9025\n",
      "Epoch 2/11\n",
      "Epoch 00001: val_loss improved from 0.25523 to 0.24320, saving model to ../models/res_HS-46cols_20170731-16.31.38-weights-improvement-01-0.91.hdf5\n",
      "10s - loss: 0.2447 - acc: 0.9063 - val_loss: 0.2432 - val_acc: 0.9089\n",
      "Epoch 3/11\n",
      "Epoch 00002: val_loss did not improve\n",
      "10s - loss: 0.2328 - acc: 0.9136 - val_loss: 0.2457 - val_acc: 0.9095\n",
      "Epoch 4/11\n",
      "Epoch 00003: val_loss improved from 0.24320 to 0.22948, saving model to ../models/res_HS-46cols_20170731-16.31.38-weights-improvement-03-0.92.hdf5\n",
      "10s - loss: 0.2241 - acc: 0.9164 - val_loss: 0.2295 - val_acc: 0.9175\n",
      "Epoch 5/11\n",
      "Epoch 00004: val_loss improved from 0.22948 to 0.22772, saving model to ../models/res_HS-46cols_20170731-16.31.38-weights-improvement-04-0.91.hdf5\n",
      "10s - loss: 0.2188 - acc: 0.9193 - val_loss: 0.2277 - val_acc: 0.9138\n",
      "Epoch 6/11\n",
      "Epoch 00005: val_loss did not improve\n",
      "10s - loss: 0.2116 - acc: 0.9217 - val_loss: 0.2283 - val_acc: 0.9142\n",
      "Epoch 7/11\n",
      "Epoch 00006: val_loss improved from 0.22772 to 0.22692, saving model to ../models/res_HS-46cols_20170731-16.31.38-weights-improvement-06-0.92.hdf5\n",
      "10s - loss: 0.2088 - acc: 0.9235 - val_loss: 0.2269 - val_acc: 0.9168\n",
      "Epoch 8/11\n",
      "Epoch 00007: val_loss improved from 0.22692 to 0.22527, saving model to ../models/res_HS-46cols_20170731-16.31.38-weights-improvement-07-0.92.hdf5\n",
      "10s - loss: 0.2009 - acc: 0.9258 - val_loss: 0.2253 - val_acc: 0.9172\n",
      "Epoch 9/11\n",
      "Epoch 00008: val_loss did not improve\n",
      "10s - loss: 0.1972 - acc: 0.9272 - val_loss: 0.2487 - val_acc: 0.9078\n",
      "Epoch 10/11\n",
      "Epoch 00009: val_loss did not improve\n",
      "10s - loss: 0.1878 - acc: 0.9310 - val_loss: 0.2450 - val_acc: 0.9102\n",
      "Epoch 11/11\n",
      "Epoch 00010: val_loss did not improve\n",
      "10s - loss: 0.1814 - acc: 0.9343 - val_loss: 0.2262 - val_acc: 0.9182\n",
      "('Test score:', 0.2261879285210015)\n",
      "('Test accuracy:', 0.91820857863751049)\n"
     ]
    }
   ],
   "source": [
    "\n",
    "prefix = 'HS'\n",
    "weights_path = None \n",
    "model = CNN_Model_Mode6(weights_path=weights_path, train_flag=True, verbose=2,\n",
    "                       nb_epoch=11, batch_size=64, \n",
    "                       name = 'res_' + prefix, \n",
    "                       fname='../data/input_data.' + prefix + '.csv', f_out = '../data/output/output_HS_data_mode6.csv')\n",
    "\n",
    "model.train(sub_sample=True)\n",
    "#model.pred(get_last_layer=False)"
   ]
  },
  {
   "cell_type": "code",
   "execution_count": 4,
   "metadata": {
    "collapsed": true
   },
   "outputs": [],
   "source": [
    "#model.cross_validation()"
   ]
  },
  {
   "cell_type": "code",
   "execution_count": 5,
   "metadata": {
    "collapsed": true
   },
   "outputs": [],
   "source": [
    "# prefix = 'HIS'\n",
    "# weights_path = None \n",
    "# model = CNN_Model_Mode6(weights_path=weights_path, train_flag=True, verbose=2,\n",
    "#                        nb_epoch=15, batch_size=64, \n",
    "#                        name = 'res_' + prefix, \n",
    "#                        fname='../data/input_data.' + prefix + '.csv', f_out = '../data/output/output_data_mode5.csv')\n",
    "\n",
    "# model.train(sub_sample=True)\n",
    "# #model.pred(get_last_layer=False)"
   ]
  }
 ],
 "metadata": {
  "kernelspec": {
   "display_name": "Python [default]",
   "language": "python",
   "name": "python2"
  },
  "language_info": {
   "codemirror_mode": {
    "name": "ipython",
    "version": 2
   },
   "file_extension": ".py",
   "mimetype": "text/x-python",
   "name": "python",
   "nbconvert_exporter": "python",
   "pygments_lexer": "ipython2",
   "version": "2.7.13"
  }
 },
 "nbformat": 4,
 "nbformat_minor": 2
}
