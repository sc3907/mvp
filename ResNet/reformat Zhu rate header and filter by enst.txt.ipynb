{
 "cells": [
  {
   "cell_type": "code",
   "execution_count": 2,
   "metadata": {
    "collapsed": true
   },
   "outputs": [],
   "source": [
    "with open('enst.txt') as f:\n",
    "    enst2gene = dict( line.strip().split() for line in f.readlines())"
   ]
  },
  {
   "cell_type": "code",
   "execution_count": 9,
   "metadata": {
    "collapsed": true
   },
   "outputs": [],
   "source": [
    "colnames = {'gene':'GeneName','all_missense':'p_misense', 'syn_rate_pergene':'p_synonymous',\n",
    "    'FATHMM':'p_fahmm','M_CAP>0.05':'p_mcap_0.05','M_CAP>0.025': 'p_mcap',\n",
    "            'MetaLR>0':'p_metalr', 'MetaSVM>0':'p_metaSVM','PP2-HVAR':'p_pp2Hvar',\n",
    "       'cadd15':'p_cadd15', 'cadd20':'p_cadd20','cadd25':'p_cadd25','cadd30':'p_cadd30',\n",
    "         'metaT_hdivD_cadd15':'p_pdmis'} ### eigen_pc_pred10 tmdtdmtdmtdmtdmt 浪费生命！！！！！！！！！！！！！！！！！！！！！！！！！！！！！！！！！！！！！！！！！！！！！！！！！！！！！！！！！！！！！！！！！！！！！！！！！！！！！！！！！！！！！！！！！！！！！！！！！！！！！！！！！！！！！！！！！！！！！！！！！！！！！！！！！！！！！！！！！！！！！！！！！！！！！！！！！！！！！！！！！！！！！！！！！！！！！！！！！！！！！！！！！！！！！！！！！！！！！！！！！！！！！！！！！！！！！！！！！！！！！！！！！！！！！！！！！！！！！！！！！！！！！！！！！！！！！！！！！！！！！！！！！！！！！！！！！！！！！！！！！！！！！！！！！！！！！！！！！！！！！！！！\n",
    "gene\ttranscript\tM_CAP>0.05\tall_missense\tPP2-HVAR\tMetaSVM>0\tcadd20\tFATHMM\tcadd15\teigen_pred10\teigen_pred15\tcadd25\tMetaLR>0\tM_CAP>0.025\teigen_pc_pred10\tcadd30\tmpc_1\tmpc_2\trevel4\trevel5\trevel6\trevel7\trevel8\trevelmvp005\tmvp01\tmvp02\tmvp03\tmvp04\tmvp05\tmvp06\tmvp07\tmvp08\tmvp09\n",
    "#Reference\tGeneVersion\tTranscript.TranscriptVersion\tExonCount\tChr\tStartPos\tEndPos\tGeneName\tp_synonymous\tp_misense\tp_nonsense\tp_splicing\tp_frameshift\tp_LGD\tp_mcap\tp_mcap_0.05p_metaSVM\tp_metalr\tp_pdmis\tp_stoploss\tp_phvar_dmis\tp_cadd10\tp_cadd15\tp_cadd18\tp_cadd20\tp_cadd22\tp_cadd24\tp_cadd25\tp_cadd26\tp_cadd28\tp_cadd30\tp_cadd35\tp_pp2Hvar\tp_fahmm\tpeigen_pred10\tpeigen_pred15\tpeigen_pc10\tpeigen_pc15\tprevel_0.4\tprevel_0.5\tprevel_0.6\tprevel_0.7\tprevel_0.8\tprevel_0.9\tpmpc_1\tpmpc_1.5\tpmpc_2\tpmpc_2.5\tpmpc_3\tpmpc_4\t0.05\t0.1\t0.15\t0.2\t0.25\t0.3\t0.35\t0.4\t0.45\t0.5\t0.55\t0.6\t0.60.7\t0.75\t0.8\t0.85\t0.9\t0.95\t0.56\n",
    "\n",
    "with open('/home/local/ARCS/hq2130/missense/data/gene/ALL_0726.rate.txt') as f, open('mis_rate_Zhu0726_filtered.txt', 'w') as fw:\n",
    "    head = f.readline().split()\n",
    "    fw.write('\\t'.join(head) + '\\n')\n",
    "    for line in f:\n",
    "        lst = line.strip().split()\n",
    "        info = dict(zip(head, lst))\n",
    "        enst = info['transcript']\n",
    "        \n",
    "        if enst in enst2gene:\n",
    "            gene = enst2gene[enst]\n",
    "            info['gene'] = gene\n",
    "            \n",
    "            new_line = []\n",
    "            for h in ['GeneName','Transcript.TranscriptVersion','']\n",
    "                new_line.append(info[h])\n",
    "            fw.write('\\t'.join(new_line) + '\\n')\n",
    "        "
   ]
  },
  {
   "cell_type": "code",
   "execution_count": null,
   "metadata": {
    "collapsed": true
   },
   "outputs": [],
   "source": []
  }
 ],
 "metadata": {
  "hide_input": false,
  "kernelspec": {
   "display_name": "Python [default]",
   "language": "python",
   "name": "python2"
  },
  "language_info": {
   "codemirror_mode": {
    "name": "ipython",
    "version": 2
   },
   "file_extension": ".py",
   "mimetype": "text/x-python",
   "name": "python",
   "nbconvert_exporter": "python",
   "pygments_lexer": "ipython2",
   "version": "2.7.13"
  },
  "toc": {
   "toc_cell": false,
   "toc_number_sections": true,
   "toc_threshold": 6,
   "toc_window_display": false
  }
 },
 "nbformat": 4,
 "nbformat_minor": 2
}
