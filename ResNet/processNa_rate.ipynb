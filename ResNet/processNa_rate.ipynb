{
 "cells": [
  {
   "cell_type": "code",
   "execution_count": 1,
   "metadata": {
    "collapsed": true
   },
   "outputs": [],
   "source": [
    "import os\n",
    "import mygene"
   ]
  },
  {
   "cell_type": "code",
   "execution_count": 2,
   "metadata": {
    "collapsed": true
   },
   "outputs": [],
   "source": [
    "chrom = map(str, range(1, 23) + ['X', 'Y'])"
   ]
  },
  {
   "cell_type": "code",
   "execution_count": 3,
   "metadata": {},
   "outputs": [
    {
     "name": "stdout",
     "output_type": "stream",
     "text": [
      "57582\n"
     ]
    }
   ],
   "source": [
    "all_enst = []\n",
    "for f in os.listdir('7rate/'):\n",
    "    if f.split('.')[0].split('chr')[-1] in chrom:\n",
    "        with open('7rate/' + f) as f1:\n",
    "            head = f1.readline().split()\n",
    "            for line in f1:\n",
    "                lst = line.split()\n",
    "                info  = dict(zip(head, lst))\n",
    "                enst =  info['Transcript.TranscriptVersion']\n",
    "                all_enst.append(enst)\n",
    "print len(all_enst)"
   ]
  },
  {
   "cell_type": "code",
   "execution_count": 4,
   "metadata": {},
   "outputs": [
    {
     "name": "stdout",
     "output_type": "stream",
     "text": [
      "querying 1-1000...done.\n",
      "querying 1001-2000...done.\n",
      "querying 2001-3000...done.\n",
      "querying 3001-4000...done.\n",
      "querying 4001-5000...done.\n",
      "querying 5001-6000...done.\n",
      "querying 6001-7000...done.\n",
      "querying 7001-8000...done.\n",
      "querying 8001-9000...done.\n",
      "querying 9001-10000...done.\n",
      "querying 10001-11000...done.\n",
      "querying 11001-12000...done.\n",
      "querying 12001-13000...done.\n",
      "querying 13001-14000...done.\n",
      "querying 14001-15000...done.\n",
      "querying 15001-16000...done.\n",
      "querying 16001-17000...done.\n",
      "querying 17001-18000...done.\n",
      "querying 18001-19000...done.\n",
      "querying 19001-20000...done.\n",
      "querying 20001-21000...done.\n",
      "querying 21001-22000...done.\n",
      "querying 22001-23000...done.\n",
      "querying 23001-24000...done.\n",
      "querying 24001-25000...done.\n",
      "querying 25001-26000...done.\n",
      "querying 26001-27000...done.\n",
      "querying 27001-28000...done.\n",
      "querying 28001-29000...done.\n",
      "querying 29001-30000...done.\n",
      "querying 30001-31000...done.\n",
      "querying 31001-32000...done.\n",
      "querying 32001-33000...done.\n",
      "querying 33001-34000...done.\n",
      "querying 34001-35000...done.\n",
      "querying 35001-36000...done.\n",
      "querying 36001-37000...done.\n",
      "querying 37001-38000...done.\n",
      "querying 38001-39000...done.\n",
      "querying 39001-40000...done.\n",
      "querying 40001-41000...done.\n",
      "querying 41001-42000...done.\n",
      "querying 42001-43000...done.\n",
      "querying 43001-44000...done.\n",
      "querying 44001-45000...done.\n",
      "querying 45001-46000...done.\n",
      "querying 46001-47000...done.\n",
      "querying 47001-48000...done.\n",
      "querying 48001-49000...done.\n",
      "querying 49001-50000...done.\n",
      "querying 50001-51000...done.\n",
      "querying 51001-52000...done.\n",
      "querying 52001-53000...done.\n",
      "querying 53001-54000...done.\n",
      "querying 54001-55000...done.\n",
      "querying 55001-56000...done.\n",
      "querying 56001-57000...done.\n",
      "querying 57001-57582...done.\n",
      "Finished.\n",
      "50 input query terms found dup hits:\n",
      "\t[(u'ENST00000390665', 2), (u'ENST00000381469', 2), (u'ENST00000334651', 2), (u'ENST00000494969', 2),\n",
      "7002 input query terms found no hit:\n",
      "\t[u'ENST00000371035', u'ENST00000371036', u'ENST00000377479', u'ENST00000406746', u'ENST00000358680',\n",
      "Pass \"returnall=True\" to return complete lists of duplicate or missing query terms.\n"
     ]
    }
   ],
   "source": [
    "mg = mygene.MyGeneInfo()\n",
    "gene = mg.querymany(all_enst,scope='ensembl.transcript', species='human')"
   ]
  },
  {
   "cell_type": "code",
   "execution_count": 5,
   "metadata": {},
   "outputs": [
    {
     "data": {
      "text/plain": [
       "u'PDZRN4'"
      ]
     },
     "execution_count": 5,
     "metadata": {},
     "output_type": "execute_result"
    }
   ],
   "source": [
    "enst2gene = {}\n",
    "for e in gene:\n",
    "    if 'symbol' in e:\n",
    "        enst2gene[e['query']] = e['symbol']\n",
    "enst2gene['ENST00000402685']"
   ]
  },
  {
   "cell_type": "code",
   "execution_count": 6,
   "metadata": {},
   "outputs": [
    {
     "name": "stdout",
     "output_type": "stream",
     "text": [
      "19874\n"
     ]
    }
   ],
   "source": [
    "rate = {}\n",
    "for f in os.listdir('7rate/'):\n",
    "    if f.split('.')[0].split('chr')[-1] in chrom:\n",
    "        with open('7rate/' + f) as f1:\n",
    "            head = f1.readline().split()\n",
    "            #print head\n",
    "            for line in f1:\n",
    "                lst = line.split()\n",
    "                info  = dict(zip(head, lst))\n",
    "                enst =  info['Transcript.TranscriptVersion']\n",
    "                gene = enst2gene.get(enst, 'NA')\n",
    "                if gene not in rate:\n",
    "                    rate[gene] = [info]\n",
    "                else:\n",
    "                    rate[gene].append(info)\n",
    "print len(rate)"
   ]
  },
  {
   "cell_type": "code",
   "execution_count": 7,
   "metadata": {},
   "outputs": [
    {
     "name": "stdout",
     "output_type": "stream",
     "text": [
      "['Gene', '#Reference', 'GeneVersion', 'Transcript.TranscriptVersion', 'ExonCount', 'Chr', 'StartPos', 'EndPos', 'GeneName', 'p_synonymous', 'p_misense', 'p_nonsense', 'p_splicing', 'p_frameshift', 'p_LGD', 'p_mcap', 'p_mcap_0.05', 'p_metaSVM', 'p_metalr', 'p_pdmis', 'p_stoploss', 'p_phvar_dmis', 'p_cadd10', 'p_cadd15', 'p_cadd18', 'p_cadd20', 'p_cadd22', 'p_cadd24', 'p_cadd25', 'p_cadd26', 'p_cadd28', 'p_cadd30', 'p_cadd35', 'p_pp2Hvar', 'p_fahmm', 'peigen_pred10', 'peigen_pred15', 'peigen_pc10', 'peigen_pc15', 'prevel_0.4', 'prevel_0.5', 'prevel_0.6', 'prevel_0.7', 'prevel_0.8', 'prevel_0.9', '0.05', '0.1', '0.15', '0.2', '0.25', '0.3', '0.35', '0.4', '0.45', '0.5', '0.55', '0.6', '0.65', '0.7', '0.75', '0.8', '0.85', '0.9', '0.95', '0.56']\n"
     ]
    }
   ],
   "source": [
    "with open('7rate/chr1.rate.txt') as f1:\n",
    "    head = f1.readline().split()\n",
    "\n",
    "new_head = ['Gene'] + head\n",
    "print new_head\n",
    "fw = open('gene_mutation_rate0617.txt', 'w')\n",
    "fw.write('\\t'.join(new_head) + '\\n')\n",
    "for gene in rate:\n",
    "    max_exon = 0\n",
    "    for enst in rate[gene]:\n",
    "        enst['Gene'] = gene\n",
    "        exoncount = int(enst['ExonCount'])\n",
    "\n",
    "        if exoncount > max_exon:\n",
    "            max_exon = exoncount\n",
    "            max_enst = enst\n",
    "        \n",
    "    info = []\n",
    "    for h in new_head:\n",
    "        info.append(max_enst[h])\n",
    "    fw.write('\\t'.join(info) + '\\n')\n",
    "        \n",
    "\n",
    "fw.close()\n",
    "\n",
    "        "
   ]
  },
  {
   "cell_type": "code",
   "execution_count": null,
   "metadata": {
    "collapsed": true
   },
   "outputs": [],
   "source": []
  },
  {
   "cell_type": "code",
   "execution_count": 8,
   "metadata": {},
   "outputs": [
    {
     "data": {
      "text/plain": [
       "[{'#Reference': '>hg19',\n",
       "  '0.05': '2.31556275627087e-05',\n",
       "  '0.1': '1.92337989421181e-05',\n",
       "  '0.15': '1.68052393119097e-05',\n",
       "  '0.2': '1.52125136804302e-05',\n",
       "  '0.25': '1.36720955546236e-05',\n",
       "  '0.3': '1.27946500240248e-05',\n",
       "  '0.35': '1.19823734075274e-05',\n",
       "  '0.4': '1.08980424807158e-05',\n",
       "  '0.45': '9.88245099745454e-06',\n",
       "  '0.5': '9.2362559195824e-06',\n",
       "  '0.55': '8.54670623057056e-06',\n",
       "  '0.56': '8.44210606367414e-06',\n",
       "  '0.6': '7.68114409403478e-06',\n",
       "  '0.65': '6.95851259213995e-06',\n",
       "  '0.7': '6.52433173062636e-06',\n",
       "  '0.75': '5.72543505231022e-06',\n",
       "  '0.8': '5.01771838607406e-06',\n",
       "  '0.85': '3.97051841103729e-06',\n",
       "  '0.9': '3.02047632409971e-06',\n",
       "  '0.95': '1.77287055453808e-06',\n",
       "  'Chr': '12',\n",
       "  'EndPos': '41967695',\n",
       "  'ExonCount': '9',\n",
       "  'Gene': u'PDZRN4',\n",
       "  'GeneName': 'PDZRN4',\n",
       "  'GeneVersion': 'wgEncodeGencodeBasicV19',\n",
       "  'StartPos': '41582255',\n",
       "  'Transcript.TranscriptVersion': 'ENST00000402685',\n",
       "  'p_LGD': '5.11530438975653e-06',\n",
       "  'p_cadd10': '3.23528124488087e-05',\n",
       "  'p_cadd15': '2.82783110769942e-05',\n",
       "  'p_cadd18': '2.66968919448373e-05',\n",
       "  'p_cadd20': '2.53061947370929e-05',\n",
       "  'p_cadd22': '2.42430176033717e-05',\n",
       "  'p_cadd24': '1.76687781163364e-05',\n",
       "  'p_cadd25': '1.42024367422145e-05',\n",
       "  'p_cadd26': '1.08293522261008e-05',\n",
       "  'p_cadd28': '7.49468873881945e-06',\n",
       "  'p_cadd30': '4.90597613739115e-06',\n",
       "  'p_cadd35': '6.36496852990267e-07',\n",
       "  'p_fahmm': '4.68492903929475e-07',\n",
       "  'p_frameshift': '2.61771884991374e-06',\n",
       "  'p_mcap': '3.80345529312124e-05',\n",
       "  'p_mcap_0.05': '2.09094404587525e-05',\n",
       "  'p_metaSVM': '5.83087744907638e-06',\n",
       "  'p_metalr': '5.72478798879353e-06',\n",
       "  'p_misense': '3.84068759079777e-05',\n",
       "  'p_nonsense': '2.09417507993099e-06',\n",
       "  'p_pdmis': '7.05849221612182e-06',\n",
       "  'p_phvar_dmis': '8.70401490806337e-06',\n",
       "  'p_pp2Hvar': '1.1572642208113e-05',\n",
       "  'p_splicing': '4.03410459911802e-07',\n",
       "  'p_stoploss': '2.84228807908476e-08',\n",
       "  'p_synonymous': '1.65379724577589e-05',\n",
       "  'peigen_pc10': '3.10506119217564e-06',\n",
       "  'peigen_pc15': '7.39957781110758e-07',\n",
       "  'peigen_pred10': '2.74993325473895e-06',\n",
       "  'peigen_pred15': '6.75660254509638e-08',\n",
       "  'prevel_0.4': '7.51452416934885e-06',\n",
       "  'prevel_0.5': '4.58448744672707e-06',\n",
       "  'prevel_0.6': '2.02979799874952e-06',\n",
       "  'prevel_0.7': '1.07456696052532e-06',\n",
       "  'prevel_0.8': '3.52111355324253e-07',\n",
       "  'prevel_0.9': '4.92147416554595e-08'},\n",
       " {'#Reference': '>hg19',\n",
       "  '0.05': '1.8514987086463e-05',\n",
       "  '0.1': '1.6137669168643e-05',\n",
       "  '0.15': '1.42086131655453e-05',\n",
       "  '0.2': '1.29025094954381e-05',\n",
       "  '0.25': '1.1667974613304e-05',\n",
       "  '0.3': '1.096600001732e-05',\n",
       "  '0.35': '1.03041246958307e-05',\n",
       "  '0.4': '9.35112753347582e-06',\n",
       "  '0.45': '8.61198571525287e-06',\n",
       "  '0.5': '8.00048279851344e-06',\n",
       "  '0.55': '7.4678973391065e-06',\n",
       "  '0.56': '7.38061705633984e-06',\n",
       "  '0.6': '6.85515542786208e-06',\n",
       "  '0.65': '6.17802288201707e-06',\n",
       "  '0.7': '5.84744261684937e-06',\n",
       "  '0.75': '5.21781751988258e-06',\n",
       "  '0.8': '4.5771642856932e-06',\n",
       "  '0.85': '3.58588573082308e-06',\n",
       "  '0.9': '2.78736141669222e-06',\n",
       "  '0.95': '1.61302589467444e-06',\n",
       "  'Chr': '12',\n",
       "  'EndPos': '41967695',\n",
       "  'ExonCount': '7',\n",
       "  'Gene': u'PDZRN4',\n",
       "  'GeneName': 'PDZRN4',\n",
       "  'GeneVersion': 'wgEncodeGencodeBasicV19',\n",
       "  'StartPos': '41831744',\n",
       "  'Transcript.TranscriptVersion': 'ENST00000539469',\n",
       "  'p_LGD': '3.93619342462894e-06',\n",
       "  'p_cadd10': '1.94427147130189e-05',\n",
       "  'p_cadd15': '1.76681205415747e-05',\n",
       "  'p_cadd18': '1.66890598864902e-05',\n",
       "  'p_cadd20': '1.61563526342797e-05',\n",
       "  'p_cadd22': '1.55736539103432e-05',\n",
       "  'p_cadd24': '1.20148525700358e-05',\n",
       "  'p_cadd25': '9.97180972369891e-06',\n",
       "  'p_cadd26': '7.64877986104225e-06',\n",
       "  'p_cadd28': '5.22459591341208e-06',\n",
       "  'p_cadd30': '3.57115763580685e-06',\n",
       "  'p_cadd35': '5.45528747436914e-07',\n",
       "  'p_fahmm': '3.90147880364308e-08',\n",
       "  'p_frameshift': '2.01194452892909e-06',\n",
       "  'p_mcap': '2.25617968403569e-05',\n",
       "  'p_mcap_0.05': '8.71621826141251e-06',\n",
       "  'p_metaSVM': '5.10575882515846e-06',\n",
       "  'p_metalr': '5.19166863733558e-06',\n",
       "  'p_misense': '2.28975162543514e-05',\n",
       "  'p_nonsense': '1.60955562314327e-06',\n",
       "  'p_pdmis': '6.92397295673933e-06',\n",
       "  'p_phvar_dmis': '8.59500196702752e-06',\n",
       "  'p_pp2Hvar': '1.13404112998399e-05',\n",
       "  'p_splicing': '3.14693272556586e-07',\n",
       "  'p_stoploss': '2.84228807908476e-08',\n",
       "  'p_synonymous': '8.68239885786088e-06',\n",
       "  'peigen_pc10': '3.07272789484734e-06',\n",
       "  'peigen_pc15': '7.39957781110758e-07',\n",
       "  'peigen_pred10': '2.6586427241618e-06',\n",
       "  'peigen_pred15': '6.75660254509638e-08',\n",
       "  'prevel_0.4': '6.60896736312364e-06',\n",
       "  'prevel_0.5': '3.87949345609237e-06',\n",
       "  'prevel_0.6': '1.64730893929009e-06',\n",
       "  'prevel_0.7': '7.98658501385804e-07',\n",
       "  'prevel_0.8': '2.93062004846092e-07',\n",
       "  'prevel_0.9': '4.92147416554595e-08'},\n",
       " {'#Reference': '>hg19',\n",
       "  '0.05': '1.83138994258987e-05',\n",
       "  '0.1': '1.60083390926702e-05',\n",
       "  '0.15': '1.41392340552165e-05',\n",
       "  '0.2': '1.28433828736822e-05',\n",
       "  '0.25': '1.16195992920882e-05',\n",
       "  '0.3': '1.09259148771646e-05',\n",
       "  '0.35': '1.02753115948513e-05',\n",
       "  '0.4': '9.32231443249649e-06',\n",
       "  '0.45': '8.58317261427354e-06',\n",
       "  '0.5': '7.98100583642631e-06',\n",
       "  '0.55': '7.46149695482794e-06',\n",
       "  '0.56': '7.37421667206128e-06',\n",
       "  '0.6': '6.84875504358353e-06',\n",
       "  '0.65': '6.17162249773851e-06',\n",
       "  '0.7': '5.84104223257081e-06',\n",
       "  '0.75': '5.21141713560402e-06',\n",
       "  '0.8': '4.57076390141465e-06',\n",
       "  '0.85': '3.58588573082308e-06',\n",
       "  '0.9': '2.78736141669222e-06',\n",
       "  '0.95': '1.61302589467444e-06',\n",
       "  'Chr': '12',\n",
       "  'EndPos': '41967695',\n",
       "  'ExonCount': '8',\n",
       "  'Gene': u'PDZRN4',\n",
       "  'GeneName': 'PDZRN4',\n",
       "  'GeneVersion': 'wgEncodeGencodeBasicV19',\n",
       "  'StartPos': '41853863',\n",
       "  'Transcript.TranscriptVersion': 'ENST00000298919',\n",
       "  'p_LGD': '3.97167650228499e-06',\n",
       "  'p_cadd10': '1.9096999308514e-05',\n",
       "  'p_cadd15': '1.7490609509917e-05',\n",
       "  'p_cadd18': '1.66905115192052e-05',\n",
       "  'p_cadd20': '1.61563526342797e-05',\n",
       "  'p_cadd22': '1.55736539103432e-05',\n",
       "  'p_cadd24': '1.20148525700358e-05',\n",
       "  'p_cadd25': '9.97180972369891e-06',\n",
       "  'p_cadd26': '7.64877986104225e-06',\n",
       "  'p_cadd28': '5.22459591341208e-06',\n",
       "  'p_cadd30': '3.57115763580685e-06',\n",
       "  'p_cadd35': '5.45528747436914e-07',\n",
       "  'p_fahmm': '3.90147880364308e-08',\n",
       "  'p_frameshift': '2.00751282739775e-06',\n",
       "  'p_mcap': '2.25400787381455e-05',\n",
       "  'p_mcap_0.05': '8.68066799057726e-06',\n",
       "  'p_metaSVM': '5.10575882515846e-06',\n",
       "  'p_metalr': '5.19166863733558e-06',\n",
       "  'p_misense': '2.28846161552973e-05',\n",
       "  'p_nonsense': '1.6060102619182e-06',\n",
       "  'p_pdmis': '6.87172317524948e-06',\n",
       "  'p_phvar_dmis': '8.4978092698395e-06',\n",
       "  'p_pp2Hvar': '1.12382044262796e-05',\n",
       "  'p_splicing': '3.58153412969039e-07',\n",
       "  'p_stoploss': '2.84228807908476e-08',\n",
       "  'p_synonymous': '8.6665614715765e-06',\n",
       "  'peigen_pc10': '3.03367306944295e-06',\n",
       "  'peigen_pc15': '7.39957781110758e-07',\n",
       "  'peigen_pred10': '2.64239783852835e-06',\n",
       "  'peigen_pred15': '6.75660254509638e-08',\n",
       "  'prevel_0.4': '6.60629685208697e-06',\n",
       "  'prevel_0.5': '3.87949345609237e-06',\n",
       "  'prevel_0.6': '1.64730893929009e-06',\n",
       "  'prevel_0.7': '7.98658501385804e-07',\n",
       "  'prevel_0.8': '2.93062004846092e-07',\n",
       "  'prevel_0.9': '4.92147416554595e-08'}]"
      ]
     },
     "execution_count": 8,
     "metadata": {},
     "output_type": "execute_result"
    }
   ],
   "source": [
    "rate['PDZRN4']"
   ]
  },
  {
   "cell_type": "markdown",
   "metadata": {
    "collapsed": true
   },
   "source": [
    "# check Na's results"
   ]
  },
  {
   "cell_type": "code",
   "execution_count": 33,
   "metadata": {},
   "outputs": [
    {
     "name": "stdout",
     "output_type": "stream",
     "text": [
      "42019\n"
     ]
    },
    {
     "data": {
      "text/plain": [
       "1.6437724423537998e-05"
      ]
     },
     "execution_count": 33,
     "metadata": {},
     "output_type": "execute_result"
    }
   ],
   "source": [
    "with open('check.gata4.list') as f:\n",
    "    i = 0\n",
    "    cadd_rate = 0\n",
    "    \n",
    "    right_enst = False\n",
    "    for line in f:\n",
    "        i += 1\n",
    "        if right_enst:\n",
    "            if line.startswith('#Referenc'):\n",
    "                break\n",
    "            elif line.startswith('>hg19_w'):\n",
    "                continue\n",
    "            elif line.startswith('CADD'):\n",
    "                lst = line.strip().split()\n",
    "                cadd_score, mu_rate = map(float, lst[-2:])\n",
    "                if cadd_score >= 15:\n",
    "                    #print lst\n",
    "                    cadd_rate += mu_rate\n",
    "        else:\n",
    "            if 'ENST00000335135' in line:\n",
    "                right_enst = True\n",
    "                \n",
    "\n",
    "print i\n",
    "cadd_rate"
   ]
  },
  {
   "cell_type": "code",
   "execution_count": 6,
   "metadata": {},
   "outputs": [
    {
     "data": {
      "text/plain": [
       "8.302110153235662e-06"
      ]
     },
     "execution_count": 6,
     "metadata": {},
     "output_type": "execute_result"
    }
   ],
   "source": [
    "cadd_rate"
   ]
  },
  {
   "cell_type": "markdown",
   "metadata": {},
   "source": [
    "# process from dbNSFTP"
   ]
  },
  {
   "cell_type": "code",
   "execution_count": 54,
   "metadata": {
    "collapsed": true
   },
   "outputs": [],
   "source": [
    "import os\n",
    "import pysam\n",
    "from collections import defaultdict"
   ]
  },
  {
   "cell_type": "code",
   "execution_count": 55,
   "metadata": {
    "collapsed": true
   },
   "outputs": [],
   "source": [
    "felix = defaultdict(lambda: 0)\n",
    "with open('3mer_table_from_felix.txt') as f:\n",
    "    head = f.readline()\n",
    "    for line in f:\n",
    "        lst = line.strip().split()\n",
    "        felix[lst[0]+'->'+lst[1]] = float(lst[-1])"
   ]
  },
  {
   "cell_type": "code",
   "execution_count": 56,
   "metadata": {},
   "outputs": [
    {
     "data": {
      "text/plain": [
       "True"
      ]
     },
     "execution_count": 56,
     "metadata": {},
     "output_type": "execute_result"
    }
   ],
   "source": [
    "len(felix) == 4**3 *3"
   ]
  },
  {
   "cell_type": "code",
   "execution_count": 60,
   "metadata": {
    "collapsed": true
   },
   "outputs": [],
   "source": [
    "fasta_file = '/Users/hongjian/Documents/protein/seq/hg19.fasta'\n",
    "\n",
    "def get_dna(chrom, pos):\n",
    "    fastafile = pysam.Fastafile(fasta_file)\n",
    "    seq = fastafile.fetch(chrom, pos-2, pos + 1).upper()    \n",
    "    return seq"
   ]
  },
  {
   "cell_type": "code",
   "execution_count": 84,
   "metadata": {
    "collapsed": true
   },
   "outputs": [],
   "source": [
    "col_dict={'cadd15':('CADD_phred', 15), 'cadd20':('CADD_phred', 20),\n",
    "          'cadd25':('CADD_phred', 25), 'cadd30':('CADD_phred', 30),\n",
    "          'eigen_pred10':('Eigen-phred', 10), 'eigen_pred15':('Eigen-phred', 15),\n",
    "          'eigen_pc_pred10':('Eigen-PC-phred', 10), \n",
    "          'MetaSVM>0':('MetaSVM_rankscore', 0.82271),'MetaLR>0':('MetaLR_rankscore', 0.81122), \n",
    "          'M_CAP>0.025':('M-CAP_rankscore', 0.4815), 'M_CAP>0.05':('M-CAP_rankscore', 0.642), \n",
    "          'PP2-HVAR':('Polyphen2_HVAR_rankscore', 0.6280),'FATHMM':('FATHMM_converted_rankscore', 0.8235),\n",
    "          'all_missense':('CADD_phred', 0.0)}"
   ]
  },
  {
   "cell_type": "code",
   "execution_count": 94,
   "metadata": {
    "collapsed": true
   },
   "outputs": [],
   "source": [
    "mu_rate = defaultdict(lambda:  defaultdict(lambda: 0) ) \n",
    "transcipt2gene = {}\n",
    "\n",
    "for fname in os.listdir(dir1):\n",
    "    if fname.startswith('dbNSFP3.3a_variant'):\n",
    "        \n",
    "        with open(dir1 + fname) as f:\n",
    "            head = f.readline().strip().split('\\t')\n",
    "            for line in f:\n",
    "                info = dict(zip(head, line.strip().split('\\t')))\n",
    "                if info['aaalt'] not in {'.', 'X'}:\n",
    "                    chrom, pos, ref, alt = info['hg19_chr'], info['hg19_pos(1-based)'], info['ref'], info['alt']\n",
    "                    tri_ref = get_dna(chrom, int(pos))\n",
    "                    tri_alt = tri_ref[0] + alt + tri_ref[-1]\n",
    "                    rate = felix[tri_ref + '->' + tri_alt]\n",
    "                    transcripts = info['Ensembl_transcriptid'].split(';')\n",
    "                    for transcript in transcripts:\n",
    "                        transcipt2gene[transcript] = info['genename']\n",
    "                        for col_name, (col, threshold) in col_dict.items():    \n",
    "                            score = info[col]\n",
    "                            if score != '.':\n",
    "                                score = float(score)\n",
    "                                if score >= threshold:\n",
    "                                    mu_rate[transcript][col_name] += rate\n",
    "\n",
    "#             # previous is transcript based background rate, it coule be gene based(all transcripts union, higher rate)\n",
    "#             if cadd_score >= 15:\n",
    "#                 mu_rate['GATA4']['CADD15'] += rate\n",
    "                \n",
    "            \n",
    "with open('mis_rate_hongjian0526.txt', 'w') as fw:\n",
    "    rates = col_dict.keys()\n",
    "    head = ['gene', 'transcript'] + rates\n",
    "    fw.write('\\t'.join(head) + '\\n')\n",
    "    for enst, rate_dict in mu_rate.items():\n",
    "        info = map(str, [transcipt2gene[enst], enst] + [rate_dict[rate] for rate in rates])\n",
    "        fw.write('\\t'.join(info) + '\\n')                "
   ]
  },
  {
   "cell_type": "markdown",
   "metadata": {},
   "source": [
    "# Na rate/hongjian rate comparison"
   ]
  },
  {
   "cell_type": "code",
   "execution_count": 6,
   "metadata": {},
   "outputs": [
    {
     "name": "stdout",
     "output_type": "stream",
     "text": [
      "['gene', 'transcript', 'M_CAP>0.05', 'all_missense', 'PP2-HVAR', 'MetaSVM>0', 'cadd20', 'FATHMM', 'cadd15', 'eigen_pred10', 'eigen_pred15', 'cadd25', 'MetaLR>0', 'M_CAP>0.025', 'eigen_pc_pred10', 'cadd30', 'mpc_1', 'mpc_2', 'revel4', 'revel5', 'revel6', 'revel7', 'revel8', 'revel9', 'mvp005', 'mvp01', 'mvp02', 'mvp03', 'mvp04', 'mvp05', 'mvp06', 'mvp07', 'mvp08', 'mvp09']\n",
      "FATHMM\n",
      "M_CAP>0.025\n",
      "M_CAP>0.05\n",
      "MetaLR>0\n",
      "MetaSVM>0\n",
      "PP2-HVAR\n",
      "all_missense\n",
      "cadd15\n",
      "cadd20\n",
      "cadd25\n",
      "cadd30\n",
      "eigen_pc_pred10\n",
      "eigen_pred10\n",
      "eigen_pred15\n",
      "gene\n",
      "mpc_1\n",
      "mpc_2\n",
      "mvp005\n",
      "mvp01\n",
      "mvp02\n",
      "mvp03\n",
      "mvp04\n",
      "mvp05\n",
      "mvp06\n",
      "mvp07\n",
      "mvp08\n",
      "mvp09\n",
      "revel4\n",
      "revel5\n",
      "revel6\n",
      "revel7\n",
      "revel8\n",
      "revel9\n",
      "transcript\n"
     ]
    }
   ],
   "source": [
    "hongjian = {}\n",
    "with open('../data/gene/mis_rate_HJ0725_AF10-5_filtered.txt') as f:\n",
    "    head = f.readline().strip().split()\n",
    "    print head\n",
    "    for x in sorted(head):\n",
    "        print x\n",
    "    for line in f:\n",
    "        lst = line.strip().split()\n",
    "        info = dict(zip(head, lst))\n",
    "        hongjian[info['transcript']] = info"
   ]
  },
  {
   "cell_type": "code",
   "execution_count": 2,
   "metadata": {},
   "outputs": [
    {
     "name": "stdout",
     "output_type": "stream",
     "text": [
      "['gene', 'transcript', 'mpc_1', 'mpc_2', 'revel4', 'revel5', 'revel6', 'revel7', 'revel8', 'revel9']\n"
     ]
    }
   ],
   "source": [
    "# hongjian_mpc = {}\n",
    "# with open('mis_rate_hongjian0620.txt') as f:\n",
    "#     head = f.readline().strip().split()\n",
    "#     print head\n",
    "#     for line in f:\n",
    "#         lst = line.strip().split()\n",
    "#         info = dict(zip(head, lst))\n",
    "#         hongjian_mpc[info['transcript']] = info"
   ]
  },
  {
   "cell_type": "code",
   "execution_count": 4,
   "metadata": {},
   "outputs": [
    {
     "name": "stdout",
     "output_type": "stream",
     "text": [
      "['#Reference', 'GeneVersion', 'Transcript.TranscriptVersion', 'ExonCount', 'Chr', 'StartPos', 'EndPos', 'GeneName', 'p_synonymous', 'p_misense', 'p_nonsense', 'p_splicing', 'p_frameshift', 'p_LGD', 'p_mcap', 'p_mcap_0.05', 'p_metaSVM', 'p_metalr', 'p_pdmis', 'p_stoploss', 'p_phvar_dmis', 'p_cadd10', 'p_cadd15', 'p_cadd18', 'p_cadd20', 'p_cadd22', 'p_cadd24', 'p_cadd25', 'p_cadd26', 'p_cadd28', 'p_cadd30', 'p_cadd35', 'p_pp2Hvar', 'p_fahmm', 'peigen_pred10', 'peigen_pred15', 'peigen_pc10', 'peigen_pc15', 'prevel_0.4', 'prevel_0.5', 'prevel_0.6', 'prevel_0.7', 'prevel_0.8', 'prevel_0.9', 'pmpc_1', 'pmpc_1.5', 'pmpc_2', 'pmpc_2.5', 'pmpc_3', 'pmpc_4', '0.05', '0.1', '0.15', '0.2', '0.25', '0.3', '0.35', '0.4', '0.45', '0.5', '0.55', '0.6', '0.65', '0.7', '0.75', '0.8', '0.85', '0.9', '0.95', '0.56']\n",
      "None\n",
      "#Reference\n",
      "0.05\n",
      "0.1\n",
      "0.15\n",
      "0.2\n",
      "0.25\n",
      "0.3\n",
      "0.35\n",
      "0.4\n",
      "0.45\n",
      "0.5\n",
      "0.55\n",
      "0.56\n",
      "0.6\n",
      "0.65\n",
      "0.7\n",
      "0.75\n",
      "0.8\n",
      "0.85\n",
      "0.9\n",
      "0.95\n",
      "Chr\n",
      "EndPos\n",
      "ExonCount\n",
      "GeneName\n",
      "GeneVersion\n",
      "StartPos\n",
      "Transcript.TranscriptVersion\n",
      "p_LGD\n",
      "p_cadd10\n",
      "p_cadd15\n",
      "p_cadd18\n",
      "p_cadd20\n",
      "p_cadd22\n",
      "p_cadd24\n",
      "p_cadd25\n",
      "p_cadd26\n",
      "p_cadd28\n",
      "p_cadd30\n",
      "p_cadd35\n",
      "p_fahmm\n",
      "p_frameshift\n",
      "p_mcap\n",
      "p_mcap_0.05\n",
      "p_metaSVM\n",
      "p_metalr\n",
      "p_misense\n",
      "p_nonsense\n",
      "p_pdmis\n",
      "p_phvar_dmis\n",
      "p_pp2Hvar\n",
      "p_splicing\n",
      "p_stoploss\n",
      "p_synonymous\n",
      "peigen_pc10\n",
      "peigen_pc15\n",
      "peigen_pred10\n",
      "peigen_pred15\n",
      "pmpc_1\n",
      "pmpc_1.5\n",
      "pmpc_2\n",
      "pmpc_2.5\n",
      "pmpc_3\n",
      "pmpc_4\n",
      "prevel_0.4\n",
      "prevel_0.5\n",
      "prevel_0.6\n",
      "prevel_0.7\n",
      "prevel_0.8\n",
      "prevel_0.9\n"
     ]
    }
   ],
   "source": [
    "na = {}\n",
    "with open('../data/gene/ALL_0726.rate.txt') as f:\n",
    "    head = f.readline().strip().split()\n",
    "    print head\n",
    "    for x in sorted(head):\n",
    "        print x\n",
    "    for line in f:\n",
    "        lst = line.strip().split()\n",
    "        info = dict(zip(head, lst))\n",
    "        na[info['Transcript.TranscriptVersion']] = info"
   ]
  },
  {
   "cell_type": "code",
   "execution_count": 3,
   "metadata": {
    "collapsed": true
   },
   "outputs": [],
   "source": [
    "rates = {'M_CAP>0.05':'p_mcap_0.05', 'all_missense':'p_misense','MetaSVM>0':'p_metaSVM',\n",
    "        'cadd20':'p_cadd20','cadd15':'p_cadd15','cadd25':'p_cadd25',\n",
    "        'M_CAP>0.025':'p_mcap','cadd30':'p_cadd30', 'metaT_hdivD_cadd15':'p_pdmis'}\n",
    "\n",
    "info = []\n",
    "count = 0\n",
    "for enst in hongjian:\n",
    "    if enst in na:\n",
    "        for rate in rates:\n",
    "            hongjian_r = float(hongjian[enst][rate])\n",
    "            na_r = float(na[enst][rates[rate]])\n",
    "            if na_r == 0:\n",
    "                if hongjian_r != 0:\n",
    "                    info.append([enst, rate, hongjian_r, na_r, '??', hongjian[enst]['Gene']]) \n",
    "                    count += 1\n",
    "                \n",
    "            elif na_r != hongjian_r and not 0.98 < hongjian_r / na_r < 1.02:\n",
    "                info.append([enst, rate, hongjian_r, na_r, hongjian_r / na_r, hongjian[enst]['Gene']]) \n",
    "                #print enst, rate, hongjian_r, na_r, hongjian_r / na_r, , hongjian[enst]['Gene']\n",
    "                count += 1\n",
    "             \n",
    "            \n",
    "            "
   ]
  },
  {
   "cell_type": "code",
   "execution_count": 4,
   "metadata": {
    "collapsed": true
   },
   "outputs": [],
   "source": [
    "import pandas as pd"
   ]
  },
  {
   "cell_type": "code",
   "execution_count": 69,
   "metadata": {
    "collapsed": true
   },
   "outputs": [],
   "source": [
    "diff = pd.DataFrame(info, columns=['enst', 'col', 'rate_hongjian', 'rate_na', 'hongjian/na', 'gene'])"
   ]
  },
  {
   "cell_type": "code",
   "execution_count": 70,
   "metadata": {
    "collapsed": true
   },
   "outputs": [],
   "source": [
    "diff.to_csv('diff_hongjian_na_rate.csv')"
   ]
  },
  {
   "cell_type": "code",
   "execution_count": 71,
   "metadata": {},
   "outputs": [
    {
     "data": {
      "text/plain": [
       "74877"
      ]
     },
     "execution_count": 71,
     "metadata": {},
     "output_type": "execute_result"
    }
   ],
   "source": [
    "len(hongjian)"
   ]
  },
  {
   "cell_type": "markdown",
   "metadata": {},
   "source": [
    "# combine na and hongjian rate"
   ]
  },
  {
   "cell_type": "code",
   "execution_count": 4,
   "metadata": {},
   "outputs": [],
   "source": [
    "new_head = [ 'Gene', 'transcript', 'M_CAP>0.025', 'M_CAP>0.05', 'all_missense', 'PP2-HVAR', 'MetaSVM>0', 'MetaLR>0',\n",
    "  'FATHMM', 'cadd15', 'cadd20', 'cadd25', 'cadd30','metaT_hdivD_cadd15',\n",
    "  'eigen_pred10', 'eigen_pred15', 'eigen_pc_pred10',  'ExonCount', 'p_synonymous',  'p_nonsense', 'p_splicing',\n",
    "  'p_frameshift', 'p_LGD', 'p_stoploss', 'prevel_0.4', 'prevel_0.5', 'prevel_0.6', 'prevel_0.7', 'prevel_0.8', \n",
    "  'prevel_0.9', 'mpc_1', 'mpc_2','revel4', 'revel5', 'revel6', 'revel7', 'revel8', 'revel9',\n",
    "  '0.05', '0.1', '0.15', '0.2', '0.25', '0.3', '0.35', '0.4', '0.45', '0.5', \n",
    "  '0.55', '0.6', '0.65', '0.7', '0.75', '0.8', '0.85', '0.9', '0.95', '0.56']\n",
    "\n",
    "with open('mis_rate_hongjian0603.txt') as f, open('mis_rate_hongjian_one_gene0617.txt', 'w') as fw:\n",
    "    fw.write('\\t'.join(new_head)+'\\n')\n",
    "    head = f.readline().strip().split()\n",
    "    for line in f:\n",
    "        lst = line.strip().split()\n",
    "        info = dict(zip(head, lst))\n",
    "        if info['transcript'] in na:\n",
    "            new_line = []\n",
    "            for h in new_head:\n",
    "                if h == 'Gene':\n",
    "                    new_line.append(na[info['transcript']][h])\n",
    "                elif h in hongjian[info['transcript']]:\n",
    "                    new_line.append(hongjian[info['transcript']][h])\n",
    "                elif h in na[info['transcript']]:\n",
    "                    new_line.append(na[info['transcript']][h])\n",
    "                elif h in {'mpc_1', 'mpc_2', 'revel4', 'revel5', 'revel6', 'revel7', 'revel8', 'revel9'}:\n",
    "                    if info['transcript'] in hongjian_mpc:\n",
    "                        new_line.append(hongjian_mpc[info['transcript']][h])\n",
    "                    else:\n",
    "                        new_line.append('0')\n",
    "            fw.write('\\t'.join(new_line)+'\\n')"
   ]
  },
  {
   "cell_type": "code",
   "execution_count": 10,
   "metadata": {},
   "outputs": [
    {
     "data": {
      "text/plain": [
       "19874"
      ]
     },
     "execution_count": 10,
     "metadata": {},
     "output_type": "execute_result"
    }
   ],
   "source": [
    "len(na)"
   ]
  },
  {
   "cell_type": "code",
   "execution_count": null,
   "metadata": {
    "collapsed": true
   },
   "outputs": [],
   "source": []
  }
 ],
 "metadata": {
  "hide_input": false,
  "kernelspec": {
   "display_name": "Python [default]",
   "language": "python",
   "name": "python2"
  },
  "language_info": {
   "codemirror_mode": {
    "name": "ipython",
    "version": 2
   },
   "file_extension": ".py",
   "mimetype": "text/x-python",
   "name": "python",
   "nbconvert_exporter": "python",
   "pygments_lexer": "ipython2",
   "version": "2.7.13"
  },
  "toc": {
   "toc_cell": false,
   "toc_number_sections": true,
   "toc_threshold": 6,
   "toc_window_display": false
  }
 },
 "nbformat": 4,
 "nbformat_minor": 2
}
