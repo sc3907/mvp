{
 "cells": [
  {
   "cell_type": "code",
   "execution_count": 1,
   "metadata": {},
   "outputs": [
    {
     "name": "stderr",
     "output_type": "stream",
     "text": [
      "Using TensorFlow backend.\n"
     ]
    },
    {
     "name": "stdout",
     "output_type": "stream",
     "text": [
      "this is a version 46 features in total, no RVIS no mis_badness !\n"
     ]
    }
   ],
   "source": [
    "from models import CNN_Model, CNN_Model_Mode6"
   ]
  },
  {
   "cell_type": "code",
   "execution_count": null,
   "metadata": {
    "scrolled": false
   },
   "outputs": [
    {
     "name": "stdout",
     "output_type": "stream",
     "text": [
      "Loading training data...\n"
     ]
    },
    {
     "name": "stderr",
     "output_type": "stream",
     "text": [
      "/home/local/ARCS/hq2130/anaconda2/lib/python2.7/site-packages/IPython/core/interactiveshell.py:2881: DtypeWarning: Columns (62,66,68) have mixed types. Specify dtype option on import or set low_memory=False.\n",
      "  exec(code_obj, self.user_global_ns, self.user_ns)\n",
      "models.py:416: UserWarning: The `merge` function is deprecated and will be removed after 08/2017. Use instead layers from `keras.layers.merge`, e.g. `add`, `concatenate`, etc.\n",
      "  x = merge([x, y], mode=\"sum\")\n",
      "/home/local/ARCS/hq2130/anaconda2/lib/python2.7/site-packages/keras/legacy/layers.py:458: UserWarning: The `Merge` layer is deprecated and will be removed after 08/2017. Use instead layers from `keras.layers.merge`, e.g. `add`, `concatenate`, etc.\n",
      "  name=name)\n",
      "models.py:425: UserWarning: Update your `Model` call to the Keras 2 API: `Model(outputs=Tensor(\"ac..., inputs=Tensor(\"in...)`\n",
      "  self.model = Model(input=input_, output=act2)\n"
     ]
    },
    {
     "name": "stdout",
     "output_type": "stream",
     "text": [
      "(18722, 72) (18722, 72)\n",
      "45 cols used: ['MutationAssessor_score_rankscore', 'VEST3_rankscore', 'Polyphen2_HDIV_rankscore', 'SIFT_converted_rankscore', 'PROVEAN_converted_rankscore', 'GenoCanyon_score_rankscore', 'LRT_converted_rankscore', 'Eigen-PC-raw_rankscore', 'Eigen-phred', 'Eigen-PC-phred', 'phyloP20way_mammalian_rankscore', 'GERP++_RS_rankscore', 'SiPhy_29way_logOdds_rankscore', 'phastCons100way_vertebrate_rankscore', 'phyloP100way_vertebrate_rankscore', 'phastCons20way_mammalian_rankscore', 'GM12878_fitCons_score_rankscore', 'HUVEC_fitCons_score_rankscore', 'integrated_fitCons_score_rankscore', 'H1-hESC_fitCons_score_rankscore', 'blosum62', 'pam250', 'SUMO_diff', 'SUMO_score', 'SUMO_cutoff', 'phospho_cutoff', 'phospho_score', 'phospho_diff', 'lofz', 'prec', 'pli', 's_het_log', 'secondary_E', 'secondary_H', 'complex_CORUM', 'preppi_counts', 'gnomad', 'ASA', 'secondary_C', 'gc_content', 'interface', 'ubiquitination', 'BioPlex', 'obs_exp', 'mis_badness']\n",
      "('X_train shape:', (29955, 45, 1, 1))\n",
      "(29955, 'train samples')\n",
      "(7489, 'test samples')\n",
      "____________________________________________________________________________________________________\n",
      "Layer (type)                     Output Shape          Param #     Connected to                     \n",
      "====================================================================================================\n",
      "input (InputLayer)               (None, 45, 1, 1)      0                                            \n",
      "____________________________________________________________________________________________________\n",
      "conv2d_1 (Conv2D)                (None, 45, 1, 32)     128         input[0][0]                      \n",
      "____________________________________________________________________________________________________\n",
      "conv2d_2 (Conv2D)                (None, 45, 1, 32)     3104        conv2d_1[0][0]                   \n",
      "____________________________________________________________________________________________________\n",
      "conv2d_3 (Conv2D)                (None, 45, 1, 32)     3104        conv2d_2[0][0]                   \n",
      "____________________________________________________________________________________________________\n",
      "merge_1 (Merge)                  (None, 45, 1, 32)     0           conv2d_1[0][0]                   \n",
      "                                                                   conv2d_3[0][0]                   \n",
      "____________________________________________________________________________________________________\n",
      "activation_1 (Activation)        (None, 45, 1, 32)     0           merge_1[0][0]                    \n",
      "____________________________________________________________________________________________________\n",
      "conv2d_4 (Conv2D)                (None, 45, 1, 32)     3104        activation_1[0][0]               \n",
      "____________________________________________________________________________________________________\n",
      "conv2d_5 (Conv2D)                (None, 45, 1, 32)     3104        conv2d_4[0][0]                   \n",
      "____________________________________________________________________________________________________\n",
      "merge_2 (Merge)                  (None, 45, 1, 32)     0           activation_1[0][0]               \n",
      "                                                                   conv2d_5[0][0]                   \n",
      "____________________________________________________________________________________________________\n",
      "activation_2 (Activation)        (None, 45, 1, 32)     0           merge_2[0][0]                    \n",
      "____________________________________________________________________________________________________\n",
      "flatten_1 (Flatten)              (None, 1440)          0           activation_2[0][0]               \n",
      "____________________________________________________________________________________________________\n",
      "dense_1 (Dense)                  (None, 512)           737792      flatten_1[0][0]                  \n",
      "____________________________________________________________________________________________________\n",
      "dense1 (Dense)                   (None, 1)             513         dense_1[0][0]                    \n",
      "____________________________________________________________________________________________________\n",
      "act2 (Activation)                (None, 1)             0           dense1[0][0]                     \n",
      "====================================================================================================\n",
      "Total params: 750,849\n",
      "Trainable params: 750,849\n",
      "Non-trainable params: 0\n",
      "____________________________________________________________________________________________________\n",
      "None\n",
      "--------------------------------------------------\n",
      "Training...\n",
      "--------------------------------------------------\n",
      "Fitting  model...\n",
      "Train on 29955 samples, validate on 7489 samples\n",
      "Epoch 1/11\n",
      "Epoch 00000: val_loss improved from inf to 0.55481, saving model to ../models/res_HIS-45cols_20170730-22.26.27-weights-improvement-00-0.71.hdf5\n",
      "15s - loss: 0.7738 - acc: 0.6749 - val_loss: 0.5548 - val_acc: 0.7096\n",
      "Epoch 2/11\n",
      "Epoch 00001: val_loss improved from 0.55481 to 0.53907, saving model to ../models/res_HIS-45cols_20170730-22.26.27-weights-improvement-01-0.71.hdf5\n",
      "14s - loss: 0.5453 - acc: 0.7073 - val_loss: 0.5391 - val_acc: 0.7050\n",
      "Epoch 3/11\n",
      "Epoch 00002: val_loss improved from 0.53907 to 0.53018, saving model to ../models/res_HIS-45cols_20170730-22.26.27-weights-improvement-02-0.71.hdf5\n",
      "14s - loss: 0.5356 - acc: 0.7087 - val_loss: 0.5302 - val_acc: 0.7112\n",
      "Epoch 4/11\n",
      "Epoch 00003: val_loss did not improve\n",
      "13s - loss: 0.5314 - acc: 0.7116 - val_loss: 0.5316 - val_acc: 0.7110\n",
      "Epoch 5/11\n",
      "Epoch 00004: val_loss improved from 0.53018 to 0.52510, saving model to ../models/res_HIS-45cols_20170730-22.26.27-weights-improvement-04-0.71.hdf5\n",
      "13s - loss: 0.5261 - acc: 0.7130 - val_loss: 0.5251 - val_acc: 0.7149\n",
      "Epoch 6/11\n",
      "Epoch 00005: val_loss improved from 0.52510 to 0.52462, saving model to ../models/res_HIS-45cols_20170730-22.26.27-weights-improvement-05-0.71.hdf5\n",
      "13s - loss: 0.5234 - acc: 0.7162 - val_loss: 0.5246 - val_acc: 0.7125\n",
      "Epoch 7/11\n"
     ]
    }
   ],
   "source": [
    "prefix = 'HIS'\n",
    "weights_path = None \n",
    "model = CNN_Model_Mode6(weights_path=weights_path, train_flag=True, verbose=2,\n",
    "                       nb_epoch=11, batch_size=64, \n",
    "                       name = 'res_' + prefix, \n",
    "                       fname='../data/input_data.' + prefix + '.csv', f_out = '../data/output/output_data_mode5.csv')\n",
    "\n",
    "model.train(sub_sample=False)\n",
    "#model.pred(get_last_layer=False)"
   ]
  },
  {
   "cell_type": "markdown",
   "metadata": {},
   "source": [
    "# HS genes training"
   ]
  },
  {
   "cell_type": "code",
   "execution_count": 3,
   "metadata": {
    "scrolled": false
   },
   "outputs": [
    {
     "name": "stdout",
     "output_type": "stream",
     "text": [
      "Loading training data...\n"
     ]
    },
    {
     "name": "stderr",
     "output_type": "stream",
     "text": [
      "/home/local/ARCS/hq2130/anaconda2/lib/python2.7/site-packages/IPython/core/interactiveshell.py:2881: DtypeWarning: Columns (62,66,68) have mixed types. Specify dtype option on import or set low_memory=False.\n",
      "  exec(code_obj, self.user_global_ns, self.user_ns)\n"
     ]
    },
    {
     "name": "stdout",
     "output_type": "stream",
     "text": [
      "(23780, 72) (23780, 72)\n",
      "46 cols used: ['MutationAssessor_score_rankscore', 'VEST3_rankscore', 'Polyphen2_HDIV_rankscore', 'SIFT_converted_rankscore', 'PROVEAN_converted_rankscore', 'FATHMM_converted_rankscore', 'GenoCanyon_score_rankscore', 'LRT_converted_rankscore', 'Eigen-PC-raw_rankscore', 'Eigen-phred', 'Eigen-PC-phred', 'phyloP20way_mammalian_rankscore', 'GERP++_RS_rankscore', 'SiPhy_29way_logOdds_rankscore', 'phastCons100way_vertebrate_rankscore', 'fathmm-MKL_coding_rankscore', 'phyloP100way_vertebrate_rankscore', 'phastCons20way_mammalian_rankscore', 'GM12878_fitCons_score_rankscore', 'HUVEC_fitCons_score_rankscore', 'integrated_fitCons_score_rankscore', 'H1-hESC_fitCons_score_rankscore', 'blosum62', 'pam250', 'SUMO_diff', 'SUMO_score', 'SUMO_cutoff', 'phospho_cutoff', 'phospho_score', 'phospho_diff', 'lofz', 'prec', 'pli', 's_het_log', 'secondary_E', 'secondary_H', 'complex_CORUM', 'preppi_counts', 'gnomad', 'ASA', 'secondary_C', 'gc_content', 'interface', 'ubiquitination', 'BioPlex', 'obs_exp']\n",
      "('X_train shape:', (38048, 46, 1, 1))\n",
      "(38048, 'train samples')\n",
      "(9512, 'test samples')\n",
      "____________________________________________________________________________________________________\n",
      "Layer (type)                     Output Shape          Param #     Connected to                     \n",
      "====================================================================================================\n",
      "input (InputLayer)               (None, 46, 1, 1)      0                                            \n",
      "____________________________________________________________________________________________________\n",
      "conv2d_6 (Conv2D)                (None, 46, 1, 32)     128         input[0][0]                      \n",
      "____________________________________________________________________________________________________\n",
      "conv2d_7 (Conv2D)                (None, 46, 1, 32)     3104        conv2d_6[0][0]                   \n",
      "____________________________________________________________________________________________________\n",
      "conv2d_8 (Conv2D)                (None, 46, 1, 32)     3104        conv2d_7[0][0]                   \n",
      "____________________________________________________________________________________________________\n",
      "merge_3 (Merge)                  (None, 46, 1, 32)     0           conv2d_6[0][0]                   \n",
      "                                                                   conv2d_8[0][0]                   \n",
      "____________________________________________________________________________________________________\n",
      "activation_3 (Activation)        (None, 46, 1, 32)     0           merge_3[0][0]                    \n",
      "____________________________________________________________________________________________________\n",
      "conv2d_9 (Conv2D)                (None, 46, 1, 32)     3104        activation_3[0][0]               \n",
      "____________________________________________________________________________________________________\n",
      "conv2d_10 (Conv2D)               (None, 46, 1, 32)     3104        conv2d_9[0][0]                   \n",
      "____________________________________________________________________________________________________\n",
      "merge_4 (Merge)                  (None, 46, 1, 32)     0           activation_3[0][0]               \n",
      "                                                                   conv2d_10[0][0]                  \n",
      "____________________________________________________________________________________________________\n",
      "activation_4 (Activation)        (None, 46, 1, 32)     0           merge_4[0][0]                    \n",
      "____________________________________________________________________________________________________\n",
      "flatten_2 (Flatten)              (None, 1472)          0           activation_4[0][0]               \n",
      "____________________________________________________________________________________________________\n",
      "dense_2 (Dense)                  (None, 512)           754176      flatten_2[0][0]                  \n",
      "____________________________________________________________________________________________________\n",
      "dense1 (Dense)                   (None, 1)             513         dense_2[0][0]                    \n",
      "____________________________________________________________________________________________________\n",
      "act2 (Activation)                (None, 1)             0           dense1[0][0]                     \n",
      "====================================================================================================\n",
      "Total params: 767,233\n",
      "Trainable params: 767,233\n",
      "Non-trainable params: 0\n",
      "____________________________________________________________________________________________________\n",
      "None\n",
      "--------------------------------------------------\n",
      "Training...\n",
      "--------------------------------------------------\n",
      "Fitting  model...\n",
      "Train on 38048 samples, validate on 9512 samples\n",
      "Epoch 1/11\n",
      "Epoch 00000: val_loss improved from inf to 0.26879, saving model to ../models/res_HS-46cols_20170724-22.50.50-weights-improvement-00-0.90.hdf5\n",
      "10s - loss: 0.4260 - acc: 0.8498 - val_loss: 0.2688 - val_acc: 0.8979\n",
      "Epoch 2/11\n",
      "Epoch 00001: val_loss improved from 0.26879 to 0.23976, saving model to ../models/res_HS-46cols_20170724-22.50.50-weights-improvement-01-0.91.hdf5\n",
      "11s - loss: 0.2527 - acc: 0.9026 - val_loss: 0.2398 - val_acc: 0.9125\n",
      "Epoch 3/11\n",
      "Epoch 00002: val_loss improved from 0.23976 to 0.23630, saving model to ../models/res_HS-46cols_20170724-22.50.50-weights-improvement-02-0.91.hdf5\n",
      "11s - loss: 0.2365 - acc: 0.9096 - val_loss: 0.2363 - val_acc: 0.9119\n",
      "Epoch 4/11\n",
      "Epoch 00003: val_loss improved from 0.23630 to 0.23274, saving model to ../models/res_HS-46cols_20170724-22.50.50-weights-improvement-03-0.91.hdf5\n",
      "10s - loss: 0.2288 - acc: 0.9143 - val_loss: 0.2327 - val_acc: 0.9141\n",
      "Epoch 5/11\n",
      "Epoch 00004: val_loss improved from 0.23274 to 0.21915, saving model to ../models/res_HS-46cols_20170724-22.50.50-weights-improvement-04-0.92.hdf5\n",
      "11s - loss: 0.2207 - acc: 0.9165 - val_loss: 0.2192 - val_acc: 0.9234\n",
      "Epoch 6/11\n",
      "Epoch 00005: val_loss improved from 0.21915 to 0.21685, saving model to ../models/res_HS-46cols_20170724-22.50.50-weights-improvement-05-0.92.hdf5\n",
      "11s - loss: 0.2153 - acc: 0.9193 - val_loss: 0.2168 - val_acc: 0.9237\n",
      "Epoch 7/11\n",
      "Epoch 00006: val_loss did not improve\n",
      "10s - loss: 0.2104 - acc: 0.9214 - val_loss: 0.2171 - val_acc: 0.9242\n",
      "Epoch 8/11\n",
      "Epoch 00007: val_loss did not improve\n",
      "11s - loss: 0.2041 - acc: 0.9236 - val_loss: 0.2223 - val_acc: 0.9228\n",
      "Epoch 9/11\n",
      "Epoch 00008: val_loss improved from 0.21685 to 0.21573, saving model to ../models/res_HS-46cols_20170724-22.50.50-weights-improvement-08-0.93.hdf5\n",
      "11s - loss: 0.1982 - acc: 0.9262 - val_loss: 0.2157 - val_acc: 0.9263\n",
      "Epoch 10/11\n",
      "Epoch 00009: val_loss improved from 0.21573 to 0.21497, saving model to ../models/res_HS-46cols_20170724-22.50.50-weights-improvement-09-0.93.hdf5\n",
      "11s - loss: 0.1901 - acc: 0.9289 - val_loss: 0.2150 - val_acc: 0.9259\n",
      "Epoch 11/11\n",
      "Epoch 00010: val_loss did not improve\n",
      "11s - loss: 0.1830 - acc: 0.9319 - val_loss: 0.2154 - val_acc: 0.9255\n",
      "('Test score:', 0.21538590350955147)\n",
      "('Test accuracy:', 0.92546257359125317)\n"
     ]
    }
   ],
   "source": [
    "\n",
    "prefix = 'HS'\n",
    "weights_path = None \n",
    "model = CNN_Model_Mode6(weights_path=weights_path, train_flag=True, verbose=2,\n",
    "                       nb_epoch=11, batch_size=64, \n",
    "                       name = 'res_' + prefix, \n",
    "                       fname='../data/input_data.' + prefix + '.csv', f_out = '../data/output/output_HS_data_mode6.csv')\n",
    "\n",
    "model.train(sub_sample=True)\n",
    "#model.pred(get_last_layer=False)"
   ]
  },
  {
   "cell_type": "code",
   "execution_count": 4,
   "metadata": {
    "collapsed": true
   },
   "outputs": [],
   "source": [
    "#model.cross_validation()"
   ]
  },
  {
   "cell_type": "code",
   "execution_count": 5,
   "metadata": {
    "collapsed": true
   },
   "outputs": [],
   "source": [
    "# prefix = 'HIS'\n",
    "# weights_path = None \n",
    "# model = CNN_Model_Mode6(weights_path=weights_path, train_flag=True, verbose=2,\n",
    "#                        nb_epoch=15, batch_size=64, \n",
    "#                        name = 'res_' + prefix, \n",
    "#                        fname='../data/input_data.' + prefix + '.csv', f_out = '../data/output/output_data_mode5.csv')\n",
    "\n",
    "# model.train(sub_sample=True)\n",
    "# #model.pred(get_last_layer=False)"
   ]
  }
 ],
 "metadata": {
  "kernelspec": {
   "display_name": "Python [default]",
   "language": "python",
   "name": "python2"
  },
  "language_info": {
   "codemirror_mode": {
    "name": "ipython",
    "version": 2
   },
   "file_extension": ".py",
   "mimetype": "text/x-python",
   "name": "python",
   "nbconvert_exporter": "python",
   "pygments_lexer": "ipython2",
   "version": "2.7.13"
  }
 },
 "nbformat": 4,
 "nbformat_minor": 2
}
