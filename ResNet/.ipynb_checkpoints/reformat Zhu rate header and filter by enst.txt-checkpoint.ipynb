{
 "cells": [
  {
   "cell_type": "code",
   "execution_count": 2,
   "metadata": {
    "collapsed": true
   },
   "outputs": [],
   "source": [
    "with open('enst.txt') as f:\n",
    "    enst2gene = dict( line.strip().split() for line in f.readlines())"
   ]
  },
  {
   "cell_type": "code",
   "execution_count": 9,
   "metadata": {},
   "outputs": [],
   "source": [
    "\n",
    "with open('mis_rate_hongjian0725.txt') as f, open('mis_rate_hongjian0725_filtered.txt', 'w') as fw:\n",
    "    head = f.readline().split()\n",
    "    fw.write('\\t'.join(head) + '\\n')\n",
    "    for line in f:\n",
    "        lst = line.strip().split()\n",
    "        info = dict(zip(head, lst))\n",
    "        enst = info['transcript']\n",
    "        \n",
    "        if enst in enst2gene:\n",
    "            gene = enst2gene[enst]\n",
    "            info['gene'] = gene\n",
    "            \n",
    "            new_line = []\n",
    "            for h in head:\n",
    "                new_line.append(info[h])\n",
    "            fw.write('\\t'.join(new_line) + '\\n')\n",
    "        "
   ]
  },
  {
   "cell_type": "code",
   "execution_count": null,
   "metadata": {
    "collapsed": true
   },
   "outputs": [],
   "source": []
  }
 ],
 "metadata": {
  "hide_input": false,
  "kernelspec": {
   "display_name": "Python 2",
   "language": "python",
   "name": "python2"
  },
  "language_info": {
   "codemirror_mode": {
    "name": "ipython",
    "version": 2
   },
   "file_extension": ".py",
   "mimetype": "text/x-python",
   "name": "python",
   "nbconvert_exporter": "python",
   "pygments_lexer": "ipython2",
   "version": "2.7.13"
  },
  "toc": {
   "toc_cell": false,
   "toc_number_sections": true,
   "toc_threshold": 6,
   "toc_window_display": false
  }
 },
 "nbformat": 4,
 "nbformat_minor": 2
}
