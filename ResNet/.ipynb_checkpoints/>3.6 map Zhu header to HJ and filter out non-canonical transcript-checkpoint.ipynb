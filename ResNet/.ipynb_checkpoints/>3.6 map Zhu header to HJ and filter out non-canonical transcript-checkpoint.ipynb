{
 "cells": [
  {
   "cell_type": "code",
   "execution_count": 12,
   "metadata": {
    "collapsed": true
   },
   "outputs": [],
   "source": [
    "with open('enst.txt') as f:\n",
    "    enst2gene = dict( line.strip().split() for line in f.readlines())"
   ]
  },
  {
   "cell_type": "code",
   "execution_count": 13,
   "metadata": {},
   "outputs": [
    {
     "name": "stdout",
     "output_type": "stream",
     "text": [
      "['gene', 'transcript', 'M_CAP>0.05', 'all_missense', 'PP2-HVAR', 'MetaSVM>0', 'cadd20', 'FATHMM', 'cadd15', 'eigen_pred10', 'eigen_pred15', 'cadd25', 'MetaLR>0', 'M_CAP>0.025', 'eigen_pc_pred10', 'cadd30', 'mpc_1', 'mpc_2', 'revel4', 'revel5', 'revel6', 'revel7', 'revel8', 'revel9', 'mvp005', 'mvp01', 'mvp02', 'mvp03', 'mvp04', 'mvp05', 'mvp06', 'mvp07', 'mvp08', 'mvp09']\n"
     ]
    }
   ],
   "source": [
    "\n",
    "with open('mis_rate_hongjian0725.txt') as f, open('mis_rate_hongjian0725_filtered.txt', 'w') as fw:\n",
    "    head = f.readline().split()\n",
    "    print head\n",
    "    fw.write('\\t'.join(head) + '\\n')\n",
    "    for line in f:\n",
    "        lst = line.strip().split()\n",
    "        info = dict(zip(head, lst))\n",
    "        enst = info['transcript']\n",
    "        \n",
    "        if enst in enst2gene:\n",
    "            gene = enst2gene[enst]\n",
    "            info['gene'] = gene\n",
    "            \n",
    "            new_line = []\n",
    "            for h in head:\n",
    "                new_line.append(info[h])\n",
    "            fw.write('\\t'.join(new_line) + '\\n')\n",
    "        "
   ]
  },
  {
   "cell_type": "code",
   "execution_count": 24,
   "metadata": {
    "collapsed": true
   },
   "outputs": [],
   "source": [
    "a = [ 'GeneName','Transcript.TranscriptVersion','p_mcap_0.05', 'p_misense',  'p_pp2Hvar', 'p_metaSVM', \n",
    " 'p_cadd20', 'p_fahmm','p_cadd15','peigen_pred10', 'peigen_pred15', 'p_cadd25',\n",
    " 'p_metalr', 'p_mcap', 'peigen_pc10', 'p_cadd30', 'pmpc_1', 'pmpc_2',\n",
    " \n",
    " 'prevel_0.4', 'prevel_0.5', 'prevel_0.6', 'prevel_0.7', 'prevel_0.8', 'prevel_0.9', \n",
    " '0.05', '0.1', '0.2', '0.3', '0.4',  '0.5', '0.6',  '0.7', '0.8',  '0.9']\n",
    "\n",
    "b = ['gene', 'transcript', 'M_CAP>0.05', 'all_missense', 'PP2-HVAR', 'MetaSVM>0', \n",
    " 'cadd20', 'FATHMM', 'cadd15', 'eigen_pred10', 'eigen_pred15', \n",
    " 'cadd25', 'MetaLR>0', 'M_CAP>0.025', 'eigen_pc_pred10', 'cadd30',\n",
    " 'mpc_1', 'mpc_2', 'revel4', 'revel5', 'revel6', 'revel7', \n",
    " 'revel8', 'revel9', 'mvp005', 'mvp01', 'mvp02', 'mvp03', \n",
    " 'mvp04', 'mvp05', 'mvp06', 'mvp07', 'mvp08', 'mvp09']\n",
    "\n",
    "# missing mpc in na's head\n",
    "na2hongjian= dict(zip(a,b))"
   ]
  },
  {
   "cell_type": "code",
   "execution_count": 26,
   "metadata": {},
   "outputs": [],
   "source": [
    "\n",
    "with open('ALL_0726.rate.txt') as f, open('mis_rate_na0725_filtered.txt', 'w') as fw:\n",
    "    head = f.readline().split()\n",
    "    \n",
    "    new_head = []\n",
    "    for na in na2hongjian:\n",
    "        new_head.append(na2hongjian[na])\n",
    "\n",
    "    fw.write('\\t'.join(new_head) + '\\n')\n",
    "    for line in f:\n",
    "        lst = line.strip().split()\n",
    "        info = dict(zip(head, lst))\n",
    "        enst = info['Transcript.TranscriptVersion']\n",
    "        \n",
    "        if enst in enst2gene:\n",
    "            gene = enst2gene[enst]\n",
    "            info['GeneName'] = gene\n",
    "            \n",
    "            new_line = []\n",
    "            for na in na2hongjian:\n",
    "                new_line.append(info[na])\n",
    "            fw.write('\\t'.join(new_line) + '\\n')"
   ]
  },
  {
   "cell_type": "code",
   "execution_count": null,
   "metadata": {
    "collapsed": true
   },
   "outputs": [],
   "source": []
  }
 ],
 "metadata": {
  "hide_input": false,
  "kernelspec": {
   "display_name": "Python 2",
   "language": "python",
   "name": "python2"
  },
  "language_info": {
   "codemirror_mode": {
    "name": "ipython",
    "version": 2
   },
   "file_extension": ".py",
   "mimetype": "text/x-python",
   "name": "python",
   "nbconvert_exporter": "python",
   "pygments_lexer": "ipython2",
   "version": "2.7.13"
  },
  "toc": {
   "toc_cell": false,
   "toc_number_sections": true,
   "toc_threshold": 6,
   "toc_window_display": false
  }
 },
 "nbformat": 4,
 "nbformat_minor": 2
}
