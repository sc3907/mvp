{
 "cells": [
  {
   "cell_type": "markdown",
   "metadata": {},
   "source": [
    "# filter out non-canonical transcripts"
   ]
  },
  {
   "cell_type": "code",
   "execution_count": 6,
   "metadata": {},
   "outputs": [
    {
     "name": "stdout",
     "output_type": "stream",
     "text": [
      "TBX15\n"
     ]
    }
   ],
   "source": [
    "import os\n",
    "os.chdir('/home/local/ARCS/hq2130/missense/data/gene/')\n",
    "\n",
    "with open('./enst.txt') as f: # samocha canonical trascript sets\n",
    "    enst2gene = dict( line.strip().split() for line in f.readlines())\n",
    "print enst2gene['ENST00000207157']"
   ]
  },
  {
   "cell_type": "code",
   "execution_count": 5,
   "metadata": {
    "collapsed": true
   },
   "outputs": [],
   "source": [
    "\n",
    "with open('./mis_rate_HJ0725_AF10-5.txt') as f, open('./mis_rate_HJ0725_AF10-5_filtered.txt', 'w') as fw:\n",
    "    head = f.readline().split()\n",
    "    fw.write('\\t'.join(head) + '\\n')\n",
    "    for line in f:\n",
    "        lst = line.strip().split()\n",
    "        info = dict(zip(head, lst))\n",
    "        enst = info['transcript'] #read in transcript ID\n",
    "        \n",
    "        if enst in enst2gene:\n",
    "            gene = enst2gene[enst]\n",
    "            info['gene'] = gene #add gene name column to dataframe info\n",
    "            \n",
    "            new_line = []\n",
    "            for h in head:\n",
    "                new_line.append(info[h])\n",
    "            fw.write('\\t'.join(new_line) + '\\n')\n",
    "        "
   ]
  },
  {
   "cell_type": "code",
   "execution_count": null,
   "metadata": {
    "collapsed": true
   },
   "outputs": [],
   "source": []
  }
 ],
 "metadata": {
  "hide_input": false,
  "kernelspec": {
   "display_name": "Python [default]",
   "language": "python",
   "name": "python2"
  },
  "language_info": {
   "codemirror_mode": {
    "name": "ipython",
    "version": 2
   },
   "file_extension": ".py",
   "mimetype": "text/x-python",
   "name": "python",
   "nbconvert_exporter": "python",
   "pygments_lexer": "ipython2",
   "version": "2.7.13"
  },
  "toc": {
   "toc_cell": false,
   "toc_number_sections": true,
   "toc_threshold": 6,
   "toc_window_display": false
  }
 },
 "nbformat": 4,
 "nbformat_minor": 2
}
