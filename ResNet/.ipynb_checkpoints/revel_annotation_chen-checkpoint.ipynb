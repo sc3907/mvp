{
 "cells": [
  {
   "cell_type": "code",
   "execution_count": 29,
   "metadata": {
    "collapsed": true
   },
   "outputs": [],
   "source": [
    "import csv\n",
    "import pysam"
   ]
  },
  {
   "cell_type": "code",
   "execution_count": 30,
   "metadata": {
    "collapsed": true
   },
   "outputs": [],
   "source": [
    "#why you write so many lines???\n",
    "\n",
    "# namefile = open('/home/local/ARCS/hq2130/missense/data/reformat.cnn.csv_list.txt')\n",
    "# line = 'start~'\n",
    "# list = []\n",
    "# while line:\n",
    "#     line = namefile.readline()\n",
    "#     if line == '':\n",
    "#         break\n",
    "#     print line\n",
    "#     print line[-1]\n",
    "#     list.append('/home/local/ARCS/hq2130/missense/data/'+line[2:-1])\n",
    "# #print list\n",
    "# list.append('/home/local/ARCS/hq2130/missense/data/output/output_data_mode5.csv')\n",
    "\n",
    "namefile = '/home/local/ARCS/hq2130/missense/data/reformat.cnn.csv_list.txt'\n",
    "with open(namefile) as f:\n",
    "    lst = ['/home/local/ARCS/hq2130/missense/data/' + line.strip()[2:] for line in f.readlines()]\n",
    "fins = ['/home/local/ARCS/hq2130/missense/data/output/output_data_mode5.csv']\n",
    "\n",
    "fins = ['../data/case_control/case_MarkDaly.anno.rare.HIS.reformat.cnn.csv',\n",
    "        '../data/case_control/case_MarkDaly.anno.rare.HS.reformat.cnn.csv',\n",
    "        '../data/case_control/control_MarkDaly.anno.rare.HIS.reformat.cnn.csv',\n",
    "        '../data/case_control/control_MarkDaly.anno.rare.HS.reformat.cnn.csv']"
   ]
  },
  {
   "cell_type": "code",
   "execution_count": 31,
   "metadata": {
    "collapsed": true
   },
   "outputs": [],
   "source": [
    "def GetScoreREVEL(Chr, Pos, Ref, Alt, Tabix):\n",
    "    for row in Tabix.fetch(Chr, int(Pos)-1, int(Pos)+1):# 0-based inputin .fetch\n",
    "        row = row.split('\\t')\n",
    "        if row[3] == Ref and row[4] == Alt:\n",
    "            return row[5]\n",
    "    return 'NA'\n",
    "\n",
    "## orginal bed format .txt needs to be bgzip then tabix -\n",
    "REVEL = '/data/hq2130/large_files/revel_file/revel_all_chr.txt.gz' \n",
    "f_revel= pysam.TabixFile(REVEL)\n",
    "\n",
    "def GetScoreMPC(Chr, Pos, Ref, Alt, Tabix):\n",
    "    for row in Tabix.fetch(Chr, int(Pos)-1, int(Pos)+1):# 0-based inputin .fetch\n",
    "        row = row.split('\\t')\n",
    "        if row[2] == Ref and row[3] == Alt:\n",
    "            return row[-1]\n",
    "    return 'NA'\n",
    "\n",
    "MPC = '/data/hq2130/large_files/fordist_constraint_official_mpc_values.txt.gz' \n",
    "f_MPC = pysam.TabixFile(MPC)"
   ]
  },
  {
   "cell_type": "code",
   "execution_count": 34,
   "metadata": {},
   "outputs": [
    {
     "name": "stdout",
     "output_type": "stream",
     "text": [
      "../data/case_control/case_MarkDaly.anno.rare.csv\n"
     ]
    }
   ],
   "source": [
    "\n",
    "fins = ['../data/case_control/case_MarkDaly.anno.rare.csv']\n",
    "for S in fins:   \n",
    "    print S\n",
    "    fin = open(S, 'rb')\n",
    "    fout = open(S+'Ann.mpc.csv','wb')\n",
    "    writer = csv.writer(fout)\n",
    "    reader = csv.reader(fin) # a list\n",
    "    header = reader.next()\n",
    "    header.extend(['REVEL', 'MPC'])\n",
    "    writer.writerow(header)\n",
    "    idx_chr = header.index('hg19_chr')\n",
    "    idx_pos = header.index('hg19_pos(1-based)')\n",
    "    idx_ref = header.index('ref')\n",
    "    idx_alt = header.index('alt')\n",
    "    for l in reader:\n",
    "        Chr = l[idx_chr]\n",
    "        Pos = l[idx_pos]\n",
    "        Ref = l[idx_ref]\n",
    "        Alt = l[idx_alt]\n",
    "        revel_score = GetScoreREVEL(Chr, Pos, Ref, Alt, f_revel)\n",
    "        mpc_score = GetScoreMPC(Chr, Pos, Ref, Alt, f_MPC)\n",
    "#         if revel_score == 'NA':\n",
    "#             print ','.join([Chr,Pos,Ref,Alt])\n",
    "        l.extend([revel_score, mpc_score])\n",
    "        writer.writerow(l)\n",
    "    fin.close()\n",
    "    fout.close()"
   ]
  },
  {
   "cell_type": "code",
   "execution_count": null,
   "metadata": {
    "collapsed": true
   },
   "outputs": [],
   "source": [
    "## this is a debugging test 06082017\n",
    "## the bug is due to incomplete download of revel_all_chr.txt T_T\n",
    "import pysam\n",
    "import csv\n",
    "REVELtxt = '/data/hq2130/large_files/revel_file/revel_all_chr.txt' ## orginal bed format .txt needs to be bgzip then tabix -\n",
    "newchrnum = 0\n",
    "fin = open(REVELtxt, 'rU')\n",
    "#fout = open(S+'Ann.csv','wb')\n",
    "#writer = csv.writer(fout)\n",
    "reader = csv.reader(fin) # a list\n",
    "header = reader.next()\n",
    "print header\n",
    "#header.extend(['REVEL'])\n",
    "for line in reader:\n",
    "    #print line\n",
    "    chr = line[0].split()[0]\n",
    "    if newchrnum != chr:\n",
    "        print chr\n",
    "        newchrnum = chr  \n",
    "fin.close()\n",
    "'''\n",
    "REVEL = '/data/hq2130/large_files/revel_file/revel_all_chr.txt.gz' ## orginal bed format .txt needs to be bgzip then tabix -\n",
    "f_revel= pysam.TabixFile(REVEL)\n",
    "for row in f_revel.fetch(3, 10000, 10001):\n",
    "    print row\n",
    "for row in f_revel.fetch(4, 10000, 10001):\n",
    "    print row\n",
    "'''"
   ]
  },
  {
   "cell_type": "code",
   "execution_count": null,
   "metadata": {
    "collapsed": true
   },
   "outputs": [],
   "source": [
    "## this is a debugging test 06092017\n",
    "## the bug is (chr,pos-1, pos) should be (chr,pos-1,pos+1)\n",
    "\n",
    "import csv\n",
    "import pysam\n",
    "\n",
    "REVEL = '/data/hq2130/large_files/revel_file/revel_all_chr.txt.gz' ## orginal bed format .txt needs to be bgzip then tabix -\n",
    "f_revel= pysam.TabixFile(REVEL)\n",
    "\n",
    "S9 = ['/home/local/ARCS/hq2130/missense/data/metaSVM/metaSVM_train.anno.rare.csv']\n",
    "\n",
    "def GetScoreREVEL(Chr, Pos, Ref, Alt, Tabix):\n",
    "\tfor row in Tabix.fetch(Chr, int(Pos)-1, int(Pos)):# 0-based inputin .fetch\n",
    "\t\trow = row.split('\\t')\n",
    "\t\tif row[3] == Ref and row[4] == Alt:\n",
    "\t\t\treturn row[5]\n",
    "\treturn 'NA'\n",
    "\n",
    "num = 0\n",
    "for S in S9:   \n",
    "\tfin = open(S, 'rb')\n",
    "\tfout = open(S+'_cc_new_Ann.csv','wb')\n",
    "\twriter = csv.writer(fout)\n",
    "\treader = csv.reader(fin) # a list\n",
    "\theader = reader.next()\n",
    "\theader.extend(['REVEL'])\n",
    "\twriter.writerow(header)\n",
    "\tidx_chr = header.index('hg19_chr')\n",
    "\tidx_pos = header.index('hg19_pos(1-based)')\n",
    "\tidx_ref = header.index('ref')\n",
    "\tidx_alt = header.index('alt')\n",
    "\tfor l in reader:\n",
    "\t\tif num == 1:\n",
    "\t\t\tbreak\n",
    "\t\tnum +=1  \n",
    "\t\tChr = l[idx_chr]\n",
    "\t\tPos = l[idx_pos]\n",
    "\t\tRef = l[idx_ref]\n",
    "\t\tAlt = l[idx_alt]\n",
    "\t\tprint Chr\n",
    "\t\tprint Pos\n",
    "\t\trevel_score = GetScoreREVEL(Chr, Pos, Ref, Alt, f_revel)\t\t\n",
    "\t\tprint revel_score\n",
    "\t\t#mcap_score = GetScoreMCAP(Chr, Pos, Ref, Alt, f_mcap)\t\t\n",
    "\t\tl.extend([revel_score])\n",
    "\t\twriter.writerow(l)\n",
    "\tfin.close()\n",
    "\tfout.close()\n",
    "\n",
    "print 'printing a test1:'\n",
    "print Chr, Pos\n",
    "print f_revel.fetch(Chr,int(Pos)-1,int(Pos)+1)\n",
    "print 'printing a test2:'\n",
    "for row in f_revel.fetch(Chr,int(Pos)-1,int(Pos)+1):### shenme gui!!!! 0-based inputin .fetch\n",
    "        row = row.split('\\t')       \n",
    "        print row\n",
    "        if row[3] == Ref and row[4] == Alt:\n",
    "            print row[5]\n",
    "\n",
    "#test under unix\n",
    "#tabix revel_all_chr.txt.gz 1:1139498-1139499\n",
    "    "
   ]
  },
  {
   "cell_type": "code",
   "execution_count": null,
   "metadata": {
    "collapsed": true
   },
   "outputs": [],
   "source": []
  }
 ],
 "metadata": {
  "kernelspec": {
   "display_name": "Python [default]",
   "language": "python",
   "name": "python2"
  },
  "language_info": {
   "codemirror_mode": {
    "name": "ipython",
    "version": 2
   },
   "file_extension": ".py",
   "mimetype": "text/x-python",
   "name": "python",
   "nbconvert_exporter": "python",
   "pygments_lexer": "ipython2",
   "version": "2.7.13"
  }
 },
 "nbformat": 4,
 "nbformat_minor": 2
}
