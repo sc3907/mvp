{
 "cells": [
  {
   "cell_type": "markdown",
   "metadata": {},
   "source": [
    "# remove recessive from hgmd"
   ]
  },
  {
   "cell_type": "code",
   "execution_count": 50,
   "metadata": {
    "collapsed": true
   },
   "outputs": [],
   "source": [
    "import matplotlib.pyplot as plt\n",
    "import pandas as pd\n",
    "\n",
    "from IPython.display import display\n",
    "from matplotlib.backends.backend_pdf import PdfPages\n",
    "\n",
    "%matplotlib inline "
   ]
  },
  {
   "cell_type": "markdown",
   "metadata": {},
   "source": [
    "# build dict for recessive variant (DM & missense)"
   ]
  },
  {
   "cell_type": "code",
   "execution_count": 56,
   "metadata": {
    "scrolled": false
   },
   "outputs": [
    {
     "name": "stdout",
     "output_type": "stream",
     "text": [
      "(130522, 31)\n",
      "HGMD_Disease                       Autism\n",
      "HGMD_Gene                             A2M\n",
      "Chrom                       12p13.3-p12.3\n",
      "HGMD_Genename       Alpha 2 macroglobulin\n",
      "gdbid                              119639\n",
      "Omimid                             103950\n",
      "Amino                             Arg-Cys\n",
      "Deletion                               \\N\n",
      "Insertion                              \\N\n",
      "HGMD_Codon                           1297\n",
      "CodonAff                             1297\n",
      "Descr                          Arg1297Cys\n",
      "Hgvs                              3889C>T\n",
      "HGMD_hgvsAll            3889CtoT | R1297C\n",
      "dbsnp                                  \\N\n",
      "Chr                                    12\n",
      "Start                             9225335\n",
      "End                               9225335\n",
      "Tag                                   DM?\n",
      "Author                            Sanders\n",
      "HGMD_Magzine                       Nature\n",
      "Allname                            Nature\n",
      "Vol                                   485\n",
      "Page                                  237\n",
      "HGMD_PublishYear                     2012\n",
      "HGMD_PMID                        22495306\n",
      "Reftag                                PRI\n",
      "Comments               supplementary data\n",
      "ACC_NUM                          CM124419\n",
      "New_date                       2012-06-01\n",
      "Base                                    M\n",
      "Name: 0, dtype: object\n",
      "494\n",
      "82\n"
     ]
    }
   ],
   "source": [
    "\n",
    "# try to use pandas df but failed...\n",
    "# build library for recessive allele\n",
    "fin = '../data/training/hgmd_pro.allmut.txt'\n",
    "\n",
    "df = pd.read_csv(fin, sep=\"!\", header=None, names=['HGMD_Disease', 'HGMD_Gene', 'Chrom', 'HGMD_Genename', 'gdbid', 'Omimid', 'Amino', 'Deletion', 'Insertion', 'HGMD_Codon', 'CodonAff', 'Descr','Hgvs', 'HGMD_hgvsAll', 'dbsnp', 'Chr', 'Start', 'End', 'Tag', 'Author', 'HGMD_Magzine', 'Allname', 'Vol', 'Page', 'HGMD_PublishYear', 'HGMD_PMID', 'Reftag', 'Comments', 'ACC_NUM', 'New_date',  'Base'])\n",
    "print df.shape\n",
    "print df.iloc[0]\n",
    "#print df[:2]\n",
    "\n",
    "'''\n",
    "#print df.ix['Comments',:10] #not working\n",
    "\n",
    "for i in range(0,df.shape[0]):\n",
    "    for j in range(0,df.shape[1]):\n",
    "        if str(df.ix[i,j]).find(\"recessive\")== True:\n",
    "            print df.iloc[i]\n",
    "            break\n",
    "    break\n",
    "'''\n",
    "\n",
    "\n",
    "from collections import defaultdict\n",
    "rece_dic = defaultdict(list)\n",
    "#print rece_dic\n",
    "header = ['HGMD_Disease', 'HGMD_Gene', 'Chrom', 'HGMD_Genename', 'gdbid', 'Omimid', 'Amino', 'Deletion', 'Insertion', 'HGMD_Codon', 'CodonAff', 'Descr','Hgvs', 'HGMD_hgvsAll', 'dbsnp', 'Chr', 'Start', 'End', 'Tag', 'Author', 'HGMD_Magzine', 'Allname', 'Vol', 'Page', 'HGMD_PublishYear', 'HGMD_PMID', 'Reftag', 'Comments', 'ACC_NUM', 'New_date',  'Base']\n",
    "#print len(header) ##31 column\n",
    "\n",
    "data = open('../data/training/hgmd_pro.allmut.txt')\n",
    "#output = open('../data/training/hgmd_pro.DM?mut.txt','w')\n",
    "line = 'start!'\n",
    "num = 0\n",
    "while line:\n",
    "    line = data.readline()\n",
    "    if line == '':\n",
    "        break\n",
    "    dataperline = line.split('!')\n",
    "    \n",
    "    if 'recessive'in dataperline[0]: \n",
    "        info = dict(zip(header, dataperline))\n",
    "        if info['Tag']=='DM':\n",
    "            #print info['Amino']\n",
    "#             if '-' in info['Amino'] and 'Term' not in info ['Amino']:\n",
    "#                 print dataperline\n",
    "#                 num += 1\n",
    "#                 print num\n",
    "            \n",
    "            if '>' in info['Hgvs'] and '+' not in info['Hgvs'] and '-' not in info['Hgvs']:\n",
    "                if dataperline[6].split('-')[1]!='Term':\n",
    "                    genename = info['HGMD_Gene']\n",
    "                    #print genename + ' '+ '_'.join(id)\n",
    "                    id = [info['Chr'],info['Start'],info['Hgvs'].split('>')[0][-1],info['Hgvs'].split('>')[1]]\n",
    "                    if genename not in rece_dic.keys():\n",
    "                        rece_dic[genename] = ['_'.join(id)] ## need to manually intitialize, add a [] around the string\n",
    "                    else:\n",
    "                        rece_dic[genename].append('_'.join(id))\n",
    "                    num +=1\n",
    "print num ## 494 rece DM missense in total\n",
    "data.close()\n",
    "print len(rece_dic)\n",
    "#print rece_dic ## ?? why included single item in the list?!! ## a bug due to reuse of \"list\" instead of \"id\", the former is used in \"rece_dic = defaultdict(list)\"\n",
    " \n"
   ]
  },
  {
   "cell_type": "markdown",
   "metadata": {},
   "source": [
    "# read in HGMD_annotated and remove recessive, output HGMD_rece_deleted"
   ]
  },
  {
   "cell_type": "code",
   "execution_count": 52,
   "metadata": {},
   "outputs": [
    {
     "name": "stdout",
     "output_type": "stream",
     "text": [
      "31\n",
      "50673\n"
     ]
    }
   ],
   "source": [
    "header = ['HGMD_Disease', 'HGMD_Gene', 'Chrom', 'HGMD_Genename', 'gdbid', 'Omimid', 'Amino', 'Deletion', 'Insertion', 'HGMD_Codon', 'CodonAff', 'Descr','Hgvs', 'HGMD_hgvsAll', 'dbsnp', 'Chr', 'Start', 'End', 'Tag', 'Author', 'HGMD_Magzine', 'Allname', 'Vol', 'Page', 'HGMD_PublishYear', 'HGMD_PMID', 'Reftag', 'Comments', 'ACC_NUM', 'New_date',  'Base']\n",
    "#print len(header) ##31 column\n",
    "data = open('../data/training/hgmd_pro.allmut.txt')\n",
    "#output = open('../data/training/hgmd_pro.DM?mut.txt','w')\n",
    "line = 'start!'\n",
    "num = 0\n",
    "while line:\n",
    "    line = data.readline()\n",
    "    if line == '':\n",
    "        break\n",
    "    dataperline = line.split('!')\n",
    "    info = dict(zip(header, dataperline))\n",
    "    if info['Tag']=='DM':\n",
    "        #print info['Amino']\n",
    "#             if '-' in info['Amino'] and 'Term' not in info ['Amino']:\n",
    "#                 print dataperline\n",
    "#                 num += 1\n",
    "#                 print num\n",
    "\n",
    "        if '>' in info['Hgvs'] and '+' not in info['Hgvs'] and '-' not in info['Hgvs'] and '\\\\' not in info['Amino']:\n",
    "            if info['Amino'].split('-')[1]!='Term':\n",
    "                #print dataperline\n",
    "                #list = [info['Chr'],info['Start'],info['Hgvs'].split('>')[0][-1],info['Hgvs'].split('>')[1]]\n",
    "                #print '_'.join(list)\n",
    "                #rece_dic[info['HGMD_Gene']].append('_'.join(list))\n",
    "                num +=1\n",
    "print num # total missense = 50673\n",
    "data.close()"
   ]
  },
  {
   "cell_type": "code",
   "execution_count": 57,
   "metadata": {},
   "outputs": [
    {
     "name": "stdout",
     "output_type": "stream",
     "text": [
      "hg19_chr,hg19_pos(1-based),ref,alt,aaref,aaalt,genename,refcodon,codonpos,aapos,1000Gp3_AF,ExAC_AF,CADD_phred,Eigen-phred,Eigen-PC-phred,RVIS,Gene damage prediction (all disease-causing genes),Gene damage prediction (all Mendelian disease-causing genes),SIFT_converted_rankscore,Polyphen2_HDIV_rankscore,Polyphen2_HVAR_rankscore,LRT_converted_rankscore,MutationTaster_converted_rankscore,MutationAssessor_score_rankscore,FATHMM_converted_rankscore,PROVEAN_converted_rankscore,VEST3_rankscore,MetaSVM_rankscore,MetaLR_rankscore,M-CAP_rankscore,CADD_raw_rankscore,DANN_rankscore,fathmm-MKL_coding_rankscore,Eigen-PC-raw_rankscore,GenoCanyon_score_rankscore,integrated_fitCons_score_rankscore,GM12878_fitCons_score_rankscore,H1-hESC_fitCons_score_rankscore,HUVEC_fitCons_score_rankscore,GERP++_RS_rankscore,phyloP100way_vertebrate_rankscore,phyloP20way_mammalian_rankscore,phastCons100way_vertebrate_rankscore,phastCons20way_mammalian_rankscore,SiPhy_29way_logOdds_rankscore,genename\n",
      "\n",
      "start!\n",
      "num of var after filtering out rece: 34375\n",
      "original num of var: 34579\n"
     ]
    }
   ],
   "source": [
    "#print len(rece_dic.keys())\n",
    "\n",
    "data = open('../data/training/HGMD_DM_missense_anno.rare.csv')\n",
    "line =  data.readline()\n",
    "print line\n",
    "\n",
    "output = open('../data/training/new_HGMD_DM_missense_anno.rare_rece_removed.csv','w')\n",
    "output.write(line)\n",
    "header = line.split(',')\n",
    "#print len(header)\n",
    "\n",
    "ori_num = 0\n",
    "new_num = 0\n",
    "print 'start!'\n",
    "while line:\n",
    "    line = data.readline()\n",
    "    if line == '':\n",
    "        break\n",
    "    dataperline = line.split(',') ## !!! forgot to strip \\n at the end of line\n",
    "    ori_num += 1\n",
    "    info = dict(zip(header, dataperline))\n",
    "    list_id = '_'.join([info['hg19_chr'], info['hg19_pos(1-based)'], info['ref'], info['alt']])\n",
    "    genename = dataperline[-1].strip() ## forgot to strip \\n leads to wrong keynames\n",
    "    \n",
    "#     if genename =='SNX10':\n",
    "#         print 'find it'\n",
    "#         print genename +' '+list_id\n",
    "        \n",
    "    #if genename in rece_dic.keys():       \n",
    "    if list_id in rece_dic[genename]:\n",
    "        #print \"overlap!\"\n",
    "        #print rece_dic[genename]\n",
    "        #print list_id\n",
    "        rece_dic[genename].remove(list_id)\n",
    "        continue\n",
    "    new_num += 1\n",
    "    #print new_num\n",
    "    output.write(line)\n",
    "    \n",
    "\n",
    "print 'num of var after filtering out rece: '+ str(new_num)\n",
    "print 'original num of var: '+ str(ori_num)\n",
    "data.close()\n",
    "output.close()\n",
    "#dict((k, v) for k, v in metadata.iteritems() if v)\n",
    "#print rece_dic \n",
    "\n",
    "#empty_keys = [k for k,v in rece_dic.iteritems() if not v]\n",
    "#for k in empty_keys:\n",
    "#    del rece_dic[k]\n",
    "#print rece_dic ## not all 494 rece DM missense is removed from anno.HGMD"
   ]
  },
  {
   "cell_type": "code",
   "execution_count": null,
   "metadata": {
    "collapsed": true
   },
   "outputs": [],
   "source": []
  }
 ],
 "metadata": {
  "kernelspec": {
   "display_name": "Python [default]",
   "language": "python",
   "name": "python2"
  },
  "language_info": {
   "codemirror_mode": {
    "name": "ipython",
    "version": 2
   },
   "file_extension": ".py",
   "mimetype": "text/x-python",
   "name": "python",
   "nbconvert_exporter": "python",
   "pygments_lexer": "ipython2",
   "version": "2.7.13"
  }
 },
 "nbformat": 4,
 "nbformat_minor": 2
}
